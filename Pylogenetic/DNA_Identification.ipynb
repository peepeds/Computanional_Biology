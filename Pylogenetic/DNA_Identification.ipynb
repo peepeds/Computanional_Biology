{
 "cells": [
  {
   "cell_type": "code",
   "execution_count": null,
   "metadata": {},
   "outputs": [],
   "source": [
    "from Bio.Seq import Seq ,  Phylo\n",
    "from Bio.SeqRecord import SeqRecord\n",
    "from Bio.Align import MultipleSeqAlignment\n",
    "from Bio.Phylo.TreeConstruction import DistanceCalculator, DistanceTreeConstructor"
   ]
  },
  {
   "cell_type": "code",
   "execution_count": null,
   "metadata": {},
   "outputs": [],
   "source": [
    "# Making Model\n",
    "victim = Seq('ATCGTAGCTAGTCGA')\n",
    "Family = [\n",
    "    Seq('ATCGTGGCTAGTCGA'),\n",
    "    Seq('ATCGTACGTAGTCGA'),\n",
    "    Seq('ATCGTAGATAGTCGA'),\n",
    "    Seq('ATCGTACGCAGTCGA'),\n",
    "    Seq('ATCGTAGCTCGTCGA'),\n",
    "]\n",
    "sequences = [\n",
    "    SeqRecord(Seq('ATCGTGGCTAGTCGA'),id = 'Family member 1'),\n",
    "    SeqRecord(Seq('ATCGTACGTAGTCGA'),id = 'Family member 2'),\n",
    "    SeqRecord(Seq('ATCGTAGATAGTCGA'),id = 'Family member 3'),\n",
    "    SeqRecord(Seq('ATCGTACGCAGTCGA'),id = 'Family member 4'),\n",
    "    SeqRecord(Seq('ATCGTAGCTCGTCGA'),id = 'Family member 5'),\n",
    "    SeqRecord(Seq('ATCGTAGCTCGTCGA'),id = 'Victim')  \n",
    "]"
   ]
  },
  {
   "cell_type": "code",
   "execution_count": null,
   "metadata": {},
   "outputs": [],
   "source": [
    "# Distance Calculator\n",
    "def hamming_distance(seq1, seq2):\n",
    "    return sum(c1 != c2 for c1, c2 in zip(seq1, seq2))"
   ]
  },
  {
   "cell_type": "code",
   "execution_count": null,
   "metadata": {},
   "outputs": [],
   "source": [
    "# find the nearest family member\n",
    "hamming_distances = [hamming_distance(victim, member) for member in Family]\n",
    "min_distance = min(hamming_distances)\n",
    "nearest_fam = [index + 1 for index, distance in enumerate(hamming_distances) if distance == min_distance]\n",
    "nearest_fam_victims = [Family[i-1] for i in nearest_fam]"
   ]
  },
  {
   "cell_type": "code",
   "execution_count": null,
   "metadata": {},
   "outputs": [],
   "source": [
    "# print the result\n",
    "print(hamming_distances)"
   ]
  },
  {
   "cell_type": "code",
   "execution_count": null,
   "metadata": {},
   "outputs": [],
   "source": [
    "# print the nearest family member\n",
    "print('The nearest family members are:')\n",
    "for i, member in enumerate(nearest_fam_victims):\n",
    "    print(f'Family member {nearest_fam[i]}: {member} with a hamming distance of {min_distance} from the victim sequence')"
   ]
  },
  {
   "cell_type": "code",
   "execution_count": null,
   "metadata": {},
   "outputs": [],
   "source": [
    "# Multiple Sequence Alignment\n",
    "align = MultipleSeqAlignment(sequences)"
   ]
  },
  {
   "cell_type": "code",
   "execution_count": null,
   "metadata": {},
   "outputs": [],
   "source": [
    "# Distance Calculator\n",
    "calculator = DistanceCalculator('identity')\n",
    "dm = calculator.get_distance(align)"
   ]
  },
  {
   "cell_type": "code",
   "execution_count": null,
   "metadata": {},
   "outputs": [],
   "source": [
    "# Distance Tree Constructor\n",
    "constructor = DistanceTreeConstructor(calculator)"
   ]
  },
  {
   "cell_type": "code",
   "execution_count": null,
   "metadata": {},
   "outputs": [],
   "source": [
    "# UPGMA Tree\n",
    "UPGMA_tree = constructor.upgma(dm)\n",
    "Phylo.draw(UPGMA_tree)"
   ]
  },
  {
   "cell_type": "code",
   "execution_count": null,
   "metadata": {},
   "outputs": [],
   "source": [
    "# Neighbor Joining Tree\n",
    "Nj_tree = constructor.nj(dm)\n",
    "Phylo.draw(Nj_tree)"
   ]
  }
 ],
 "metadata": {
  "kernelspec": {
   "display_name": "Python 3",
   "language": "python",
   "name": "python3"
  },
  "language_info": {
   "codemirror_mode": {
    "name": "ipython",
    "version": 3
   },
   "file_extension": ".py",
   "mimetype": "text/x-python",
   "name": "python",
   "nbconvert_exporter": "python",
   "pygments_lexer": "ipython3",
   "version": "3.9.6"
  }
 },
 "nbformat": 4,
 "nbformat_minor": 2
}
