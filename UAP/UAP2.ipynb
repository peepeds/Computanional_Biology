{
 "cells": [
  {
   "cell_type": "code",
   "execution_count": null,
   "metadata": {},
   "outputs": [],
   "source": [
    "# import library yang dibutuhkan\n",
    "from Bio import SeqIO\n",
    "from Bio.Seq import Seq"
   ]
  },
  {
   "cell_type": "code",
   "execution_count": null,
   "metadata": {},
   "outputs": [],
   "source": [
    "#membaca file fasta dan simpan dalam variabel\n",
    "apoeAcipenser = list(SeqIO.parse(\"APOE-Acipenser.fasta\", \"fasta\"))\n",
    "apoeChristchurch = list(SeqIO.parse(\"APOE-Christchurch.fasta\", \"fasta\"))         "
   ]
  },
  {
   "cell_type": "code",
   "execution_count": null,
   "metadata": {},
   "outputs": [],
   "source": [
    "#mengambil sequens nya saja\n",
    "seqApoeAcipenser = apoeAcipenser[0].seq\n",
    "seqApoeChristchurch = apoeChristchurch[0].seq"
   ]
  },
  {
   "cell_type": "code",
   "execution_count": null,
   "metadata": {},
   "outputs": [],
   "source": [
    "#translasikan menjadi asam amino\n",
    "acidAcipenser = seqApoeAcipenser.translate()\n",
    "acidChristchurch = seqApoeChristchurch.translate()"
   ]
  },
  {
   "cell_type": "code",
   "execution_count": null,
   "metadata": {},
   "outputs": [],
   "source": [
    "#mencetak hasil\n",
    "print(\"Acid Acipenser : \", acidAcipenser[0:10])"
   ]
  },
  {
   "cell_type": "code",
   "execution_count": null,
   "metadata": {},
   "outputs": [],
   "source": [
    "#potong sequence acipenser\n",
    "# 30 karena 1 codon = 3 basa\n",
    "seqApoeAcipenser = seqApoeAcipenser[0:30]"
   ]
  },
  {
   "cell_type": "code",
   "execution_count": null,
   "metadata": {},
   "outputs": [],
   "source": [
    "#cari apakah asam amino acipenser terkanal di christchurch\n",
    "find = acidChristchurch.find(acidAcipenser)\n",
    "print(find)"
   ]
  },
  {
   "cell_type": "code",
   "execution_count": null,
   "metadata": {},
   "outputs": [],
   "source": [
    "# Mutasi yang akan dilakukan adalah mutasi missense\n",
    "# Mutasi missense adalah mutasi yang mengubah satu basa menjadi basa lain\n",
    "# Mutasi ini yang paling mudah dilakukan karena hanya mengubah basa \n",
    "# Bukan menghapus basa atau menambah basa\n",
    "\n",
    "# Fungsi untuk mencari mutasi yang diperlukan\n",
    "# fungsi ini dilakukan agar sequence target dibuah menjadi seequence tujuan\n",
    "def find_mutations(seq1, seq2):\n",
    "    mutations = []\n",
    "    for i in range(len(seq1)):\n",
    "        if seq1[i] != seq2[i]:\n",
    "            mutations.append((i, seq1[i], seq2[i]))\n",
    "    return mutations"
   ]
  },
  {
   "cell_type": "code",
   "execution_count": null,
   "metadata": {},
   "outputs": [],
   "source": [
    "# Mencari mutasi yang diperlukan\n",
    "mutations = find_mutations(seqApoeAcipenser, seqApoeChristchurch)"
   ]
  },
  {
   "cell_type": "code",
   "execution_count": null,
   "metadata": {},
   "outputs": [],
   "source": [
    "# Output posisi dan mutasi yang diperlukan\n",
    "print(\"Mutasi yang diperlukan untuk mengubah ApoE Acipenser menjadi ApoE Christchurch:\")\n",
    "for pos, base_acipenser, base_christchurch in mutations:\n",
    "    print(f\"Posisi {pos}: {base_acipenser} -> {base_christchurch}\")"
   ]
  },
  {
   "cell_type": "code",
   "execution_count": null,
   "metadata": {},
   "outputs": [],
   "source": [
    "#Menerapkan mutasi pada tingkat DNA\n",
    "#bertujuan untuk mengganti setiap karakter pada urutan DNA ApoE Acipenser \n",
    "#dengan karakter yang sesuai pada urutan DNA ApoE Christchurch\n",
    "seqApoeAcipenser_mutated = list(seqApoeAcipenser)\n",
    "for pos, _, base_christchurch in mutations:\n",
    "    seqApoeAcipenser_mutated[pos] = base_christchurch\n",
    "seqApoeAcipenser_mutated = ''.join(seqApoeAcipenser_mutated)"
   ]
  },
  {
   "cell_type": "code",
   "execution_count": null,
   "metadata": {},
   "outputs": [],
   "source": [
    "# Menerjemahkan kembali urutan DNA yang sudah dimutasi ke dalam asam amino\n",
    "acidAcipenser_mutated = Seq(seqApoeAcipenser_mutated).translate()"
   ]
  },
  {
   "cell_type": "code",
   "execution_count": null,
   "metadata": {},
   "outputs": [],
   "source": [
    "# Output hasil urutan yang sudah dimutasi\n",
    "print(\"\\nUrutan ApoE Acipenser setelah dimutasi:\")\n",
    "print(seqApoeAcipenser_mutated)\n",
    "print(\"\\nAsam amino ApoE Acipenser setelah dimutasi:\")\n",
    "print(acidAcipenser_mutated)\n",
    "print(\"\\nAsam amino ApoE Christchurch:\")\n",
    "print(acidChristchurch)\n",
    "print(\"\\nAsam amino ApoE Acipenser termutasu ditemukan pada index:\")\n",
    "print(acidChristchurch.find(acidAcipenser_mutated))"
   ]
  }
 ],
 "metadata": {
  "kernelspec": {
   "display_name": "Python 3",
   "language": "python",
   "name": "python3"
  },
  "language_info": {
   "codemirror_mode": {
    "name": "ipython",
    "version": 3
   },
   "file_extension": ".py",
   "mimetype": "text/x-python",
   "name": "python",
   "nbconvert_exporter": "python",
   "pygments_lexer": "ipython3",
   "version": "3.9.6"
  }
 },
 "nbformat": 4,
 "nbformat_minor": 2
}
