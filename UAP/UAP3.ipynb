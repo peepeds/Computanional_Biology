{
 "cells": [
  {
   "cell_type": "code",
   "execution_count": null,
   "metadata": {},
   "outputs": [],
   "source": [
    "#panggil library yang dibutuhkan\n",
    "from Bio import SeqIO\n",
    "import matplotlib.pyplot as plt"
   ]
  },
  {
   "cell_type": "code",
   "execution_count": null,
   "metadata": {},
   "outputs": [],
   "source": [
    "#membaca file fasta\n",
    "apoe = list(SeqIO.parse(\"APOE-Acipenser.fasta\", \"fasta\"))\n",
    "seqApoe = apoe[0].seq"
   ]
  },
  {
   "cell_type": "code",
   "execution_count": null,
   "metadata": {},
   "outputs": [],
   "source": [
    "#mendefinisikan fungsi untuk menghitung jumlah basa per komponen\n",
    "def count_seq(seq):\n",
    "    countA = seq.count(\"A\")\n",
    "    countC = seq.count(\"C\")\n",
    "    countG = seq.count(\"G\")\n",
    "    countT = seq.count(\"T\")\n",
    "    return {\n",
    "        \"A\": countA,\n",
    "        \"C\": countC,\n",
    "        \"G\": countG,\n",
    "        \"T\": countT\n",
    "    }\n",
    "\n",
    "#mendefinisikan fungsi untuk menghitung persentase basa per komponen\n",
    "def percentage_seq(seq):\n",
    "    percentage_seqA = round(seq.count(\"A\") / len(seq) * 100,2) \n",
    "    percentage_seqC = round(seq.count(\"C\") / len(seq) * 100,2)\n",
    "    percentage_seqG = round(seq.count(\"G\") / len(seq) * 100,2)\n",
    "    percentage_seqT = round(seq.count(\"T\") / len(seq) * 100,2)\n",
    "    return {\n",
    "        \"A\": percentage_seqA,\n",
    "        \"C\": percentage_seqC,\n",
    "        \"G\": percentage_seqG,\n",
    "        \"T\": percentage_seqT\n",
    "    }\n",
    "\n",
    "# mendefinisikan fungsi untuk menghitung GC skewness\n",
    "# menghitung GC skewness dengan rumus (G-C)/(G+C)\n",
    "# window adalah panjang sekuens yang akan dihitung GC skewnessnya\n",
    "# skewness melihat komposisis basa mana yang lebih banyak\n",
    "# jika skewness > 0 maka basa GC lebih banyak      \n",
    "def gc_skew(dna, window=5):\n",
    "    skews = []\n",
    "    for i in range(0, len(dna), window):\n",
    "        subseq = dna[i:i+window]\n",
    "        g_count = subseq.count('G')\n",
    "        c_count = subseq.count('C')\n",
    "        if g_count + c_count !=0:\n",
    "            skew = (g_count - c_count)/(g_count + c_count) \n",
    "            skews.append(skew)\n",
    "        else:\n",
    "            skews.append(0)\n",
    "\n",
    "    return skews"
   ]
  },
  {
   "cell_type": "code",
   "execution_count": null,
   "metadata": {},
   "outputs": [],
   "source": [
    "#cetak hasil analisis\n",
    "print(\"komponen masing - masing basa\")\n",
    "print(count_seq(seqApoe))\n",
    "print(\"persentase masing - masing basa\")\n",
    "print(percentage_seq(seqApoe))"
   ]
  },
  {
   "cell_type": "code",
   "execution_count": null,
   "metadata": {},
   "outputs": [],
   "source": [
    "#panggil gungsi gc_skew dan tampung dalam variabel\n",
    "apoE_gc_skew = gc_skew(seqApoe)"
   ]
  },
  {
   "cell_type": "code",
   "execution_count": null,
   "metadata": {},
   "outputs": [],
   "source": [
    "#buat plot untuk ditampilkan\n",
    "plt.plot(apoE_gc_skew, label='gc_skew' , color = 'blue')\n",
    "\n",
    "plt.xlabel('Posisi')\n",
    "plt.ylabel('skewness')\n",
    "plt.title('GC Skewness dengan windows 5')\n",
    "\n",
    "plt.legend()\n",
    "plt.show()"
   ]
  }
 ],
 "metadata": {
  "kernelspec": {
   "display_name": "Python 3",
   "language": "python",
   "name": "python3"
  },
  "language_info": {
   "codemirror_mode": {
    "name": "ipython",
    "version": 3
   },
   "file_extension": ".py",
   "mimetype": "text/x-python",
   "name": "python",
   "nbconvert_exporter": "python",
   "pygments_lexer": "ipython3",
   "version": "3.9.6"
  }
 },
 "nbformat": 4,
 "nbformat_minor": 2
}
