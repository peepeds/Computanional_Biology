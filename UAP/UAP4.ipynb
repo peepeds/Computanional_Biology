{
 "cells": [
  {
   "cell_type": "code",
   "execution_count": null,
   "metadata": {},
   "outputs": [],
   "source": [
    "#import library yang dibituhkan\n",
    "# ML menggunakan scipy \n",
    "# Scipy berfungsi untuk memodelkan fungsi-fungsi matematika\n",
    "# dalam hal ini untuk melakukan optimisasi\n",
    "import numpy as np\n",
    "from Bio import pairwise2\n",
    "from Bio.pairwise2 import format_alignment\n",
    "from Bio import SeqIO\n",
    "from scipy.optimize import differential_evolution\n",
    "from Bio import SeqIO\n",
    "from Bio.SeqRecord import SeqRecord\n",
    "from Bio.Align import MultipleSeqAlignment"
   ]
  },
  {
   "cell_type": "code",
   "execution_count": null,
   "metadata": {},
   "outputs": [],
   "source": [
    "#membaca file fasta dan menyimpannya dalam variabel\n",
    "apoeAcipenser = list(SeqIO.parse(\"APOE-Acipenser.fasta\", \"fasta\"))\n",
    "apoeBos = list(SeqIO.parse(\"APOE-Bos.fasta\", \"fasta\"))\n",
    "apoeCercopithecus = list(SeqIO.parse(\"APOE-Cercopithecus.fasta\", \"fasta\"))\n",
    "apoeOryctolagus = list(SeqIO.parse(\"APOE-Oryctolagus.fasta\", \"fasta\"))\n",
    "apoePan = list(SeqIO.parse(\"APOE-Pan.fasta\", \"fasta\"))\n",
    "apoeSiniperca = list(SeqIO.parse(\"APOE-Siniperca.fasta\", \"fasta\"))"
   ]
  },
  {
   "cell_type": "code",
   "execution_count": null,
   "metadata": {},
   "outputs": [],
   "source": [
    "#mengambil sequence dari file fasta\n",
    "#sequence yang diambil hanya 138 karakter pertama\n",
    "# hal ini dilakukan karena MSA hanya mendukung jumlah alignment yang sama\n",
    "seqapoeAcipenser = apoeAcipenser[0].seq[:138]\n",
    "seqapoeBos = apoeBos[0].seq[:138]\n",
    "seqapoECercopithecus = apoeCercopithecus[0].seq[:138]\n",
    "seqapoeOryctolagus= apoeOryctolagus[0].seq[:138]\n",
    "seqapoePan = apoePan[0].seq[:138]\n",
    "seqapoESiniperca = apoeSiniperca[0].seq[:138]"
   ]
  },
  {
   "cell_type": "code",
   "execution_count": null,
   "metadata": {},
   "outputs": [],
   "source": [
    "#membuat multiple sequence alignment\n",
    "sequences = [\n",
    "    SeqRecord(seqapoeAcipenser,id = 'Acipenser'),\n",
    "    SeqRecord(seqapoeBos,id = 'Bos Taurus'),\n",
    "    SeqRecord(seqapoECercopithecus,id = 'Cercoptithecus aethiops'),\n",
    "    SeqRecord(seqapoeOryctolagus,id = 'Oryctolagus cuniculus'),\n",
    "    SeqRecord(seqapoePan,id = 'Pan troglodytes'),\n",
    "    SeqRecord(seqapoESiniperca,id = 'Siniperca chuatsi')  \n",
    "]"
   ]
  },
  {
   "cell_type": "code",
   "execution_count": null,
   "metadata": {},
   "outputs": [],
   "source": [
    "#menyimpan hasil multiple sequence alignment dalam variabel\n",
    "align = MultipleSeqAlignment(sequences)"
   ]
  },
  {
   "cell_type": "code",
   "execution_count": null,
   "metadata": {},
   "outputs": [],
   "source": [
    "#fungsi untuk meelihat daerah yang termutasi\n",
    "def mutations(alignment, acipenser_seq):\n",
    "    results = {}\n",
    "    acipenser_seq_str = str(acipenser_seq)\n",
    "\n",
    "    for record in alignment:\n",
    "        if record.id != 'Acipenser':\n",
    "            conserved = []\n",
    "            mutations = []\n",
    "            for i, (acipenser_res, other_res) in enumerate(zip(acipenser_seq_str, str(record.seq))):\n",
    "                if acipenser_res == other_res:\n",
    "                    conserved.append((i+1, acipenser_res))\n",
    "                else:\n",
    "                    mutations.append((i+1, acipenser_res, other_res))\n",
    "            results[record.id] = {\n",
    "                'conserved': conserved,\n",
    "                'mutations': mutations\n",
    "            }\n",
    "    return results"
   ]
  },
  {
   "cell_type": "code",
   "execution_count": null,
   "metadata": {},
   "outputs": [],
   "source": [
    "#fungsi untuk melihat daerah konservatif\n",
    "def conserved(alignment, acipenser_seq):\n",
    "    results = {}\n",
    "    acipenser_seq_str = str(acipenser_seq)\n",
    "\n",
    "    for record in alignment:\n",
    "        if record.id != 'Acipenser':\n",
    "            comparison = []\n",
    "            for acipenser_res, other_res in zip(acipenser_seq_str, str(record.seq)):\n",
    "                if acipenser_res == other_res:\n",
    "                    comparison.append(acipenser_res)\n",
    "                else:\n",
    "                    comparison.append('x')\n",
    "            results[record.id] = ''.join(comparison)\n",
    "    return results"
   ]
  },
  {
   "cell_type": "code",
   "execution_count": null,
   "metadata": {},
   "outputs": [],
   "source": [
    "#menampilkan hasil mutasi\n",
    "results_mutation = mutations(align, seqapoeAcipenser)\n",
    "\n",
    "# Tampilkan hasil perspecies\n",
    "for species, data in results_mutation.items():\n",
    "    print(f\"\\nHasil untuk {species}:\")\n",
    "    \n",
    "    print(\"Mutasi:\")\n",
    "    for pos, acipenser_res, other_res in data['mutations']:\n",
    "        print(f\"Posisi {pos}: Acipenser ({acipenser_res}) -> {species} ({other_res})\")"
   ]
  },
  {
   "cell_type": "code",
   "execution_count": null,
   "metadata": {},
   "outputs": [],
   "source": [
    "# Lakukan perbandingan\n",
    "results_conserve = conserved(align, seqapoeAcipenser)\n",
    "\n",
    "# Tampilkan hasil\n",
    "for species, comparison in results_conserve.items():\n",
    "    print(f\"\\nHasil untuk {species}:\")\n",
    "    print(comparison)"
   ]
  },
  {
   "cell_type": "code",
   "execution_count": null,
   "metadata": {},
   "outputs": [],
   "source": [
    "# sequence yang akan dijadikan sebagai target\n",
    "# sequence dijakian string untuk mempermudah proses\n",
    "# alasan memotong sequence untuk memperceepat pemodelan :)\n",
    "sequences = [\n",
    "    str(apoeAcipenser[0].seq[:138]),\n",
    "    str(apoeBos[0].seq[:138]),\n",
    "    str(apoeCercopithecus[0].seq[:138]),\n",
    "    str(apoeOryctolagus[0].seq[:138]),\n",
    "    str(apoePan[0].seq[:138]),\n",
    "    str(apoeSiniperca[0].seq[:138])\n",
    "]"
   ]
  },
  {
   "cell_type": "code",
   "execution_count": null,
   "metadata": {},
   "outputs": [],
   "source": [
    "#fungsi untuk menghitung skor alignment\n",
    "#berguna untuk kperhitungan optimisasi\n",
    "def alignment_score(params):\n",
    "    gap_open_penalty, gap_extend_penalty = params\n",
    "    if gap_open_penalty < gap_extend_penalty:\n",
    "        return np.inf  # invalid parameter combination\n",
    "    total_score = 0\n",
    "    num_alignments = 0\n",
    "    for i in range(len(sequences)):\n",
    "        for j in range(i + 1, len(sequences)):\n",
    "            alignments = pairwise2.align.globalxs(sequences[i], sequences[j], -gap_open_penalty, -gap_extend_penalty)\n",
    "            total_score += alignments[0].score  # Add the score of the best alignment\n",
    "            num_alignments += 1\n",
    "    average_score = total_score / num_alignments\n",
    "    return -average_score  # Negative because differential_evolution minimizes the function"
   ]
  },
  {
   "cell_type": "code",
   "execution_count": null,
   "metadata": {},
   "outputs": [],
   "source": [
    "# menentukan nilai batas untuk gap open dan gap extend\n",
    "bounds = [(0.1, 10.0), (0.1, 10.0)]\n",
    "\n",
    "# melakukan pergitungan optimisasi\n",
    "result = differential_evolution(alignment_score, bounds)\n",
    "\n",
    "#mendapatkan hasil optimisasi untuk gap open dan gap extend\n",
    "best_gap_open_penalty, best_gap_extend_penalty = result.x"
   ]
  },
  {
   "cell_type": "code",
   "execution_count": null,
   "metadata": {},
   "outputs": [],
   "source": [
    "#menampilkan hasil optimisasi untuk gap open dan gap extend`\n",
    "print(f\"Best gap open penalty: {best_gap_open_penalty}\")\n",
    "print(f\"Best gap extend penalty: {best_gap_extend_penalty}\")"
   ]
  },
  {
   "cell_type": "code",
   "execution_count": null,
   "metadata": {},
   "outputs": [],
   "source": [
    "#memberikan nilai inisiasi untuk skor alignment\n",
    "#nilai inisiasi adalah nilai terburuk yang mungkin\n",
    "best_alignment = None\n",
    "best_score = float('-inf')"
   ]
  },
  {
   "cell_type": "code",
   "execution_count": null,
   "metadata": {},
   "outputs": [],
   "source": [
    "for j in range(1, len(sequences)):\n",
    "    alignments = pairwise2.align.globalxs(sequences[0], sequences[j], -best_gap_open_penalty, -best_gap_extend_penalty)\n",
    "    if alignments[0].score > best_score:\n",
    "        best_score = alignments[0].score\n",
    "        best_alignment = alignments[0]"
   ]
  },
  {
   "cell_type": "code",
   "execution_count": null,
   "metadata": {},
   "outputs": [],
   "source": [
    "print(\"\\nBest alignment overall:\")\n",
    "print(format_alignment(*best_alignment))"
   ]
  },
  {
   "cell_type": "code",
   "execution_count": null,
   "metadata": {},
   "outputs": [],
   "source": [
    "first_alignment_line = format_alignment(*best_alignment).split('\\n')[0]\n",
    "print(\"First line of the best alignment:\")\n",
    "print(first_alignment_line)"
   ]
  }
 ],
 "metadata": {
  "language_info": {
   "name": "python"
  }
 },
 "nbformat": 4,
 "nbformat_minor": 2
}
