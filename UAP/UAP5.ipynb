{
 "cells": [
  {
   "cell_type": "code",
   "execution_count": 1,
   "metadata": {},
   "outputs": [],
   "source": [
    "#import library yang dibutuhkan\n",
    "from Bio import SeqIO\n",
    "from Bio.SeqRecord import SeqRecord\n",
    "from Bio.Align import MultipleSeqAlignment\n",
    "from Bio.Phylo.TreeConstruction import DistanceCalculator\n",
    "import pandas as pd\n",
    "import numpy as np\n",
    "from scipy.cluster.hierarchy import dendrogram, linkage\n",
    "import matplotlib.pyplot as plt\n",
    "from tabulate import tabulate"
   ]
  },
  {
   "cell_type": "code",
   "execution_count": 2,
   "metadata": {},
   "outputs": [],
   "source": [
    "#membaca file fasta yang telah di download\n",
    "apoeAcipenser = list(SeqIO.parse(\"APOE-Acipenser.fasta\", \"fasta\"))\n",
    "apoeBos = list(SeqIO.parse(\"APOE-Bos.fasta\", \"fasta\"))\n",
    "apoeCercopithecus = list(SeqIO.parse(\"APOE-Cercopithecus.fasta\", \"fasta\"))\n",
    "apoeOryctolagus = list(SeqIO.parse(\"APOE-Oryctolagus.fasta\", \"fasta\"))\n",
    "apoePan = list(SeqIO.parse(\"APOE-Pan.fasta\", \"fasta\"))\n",
    "apoeSiniperca = list(SeqIO.parse(\"APOE-Siniperca.fasta\", \"fasta\"))"
   ]
  },
  {
   "cell_type": "code",
   "execution_count": 3,
   "metadata": {},
   "outputs": [],
   "source": [
    "#potong sequence dengan panjang paling APOE paling pendek\n",
    "#hal ini dilakukan agar dapat dilakukan multiple sequence alignment\n",
    "seqapoeAcipenser = apoeAcipenser[0].seq[:138]\n",
    "seqapoeBos = apoeBos[0].seq[:138]\n",
    "seqapoECercopithecus = apoeCercopithecus[0].seq[:138]\n",
    "seqapoeOryctolagus= apoeOryctolagus[0].seq[:138]\n",
    "seqapoePan = apoePan[0].seq[:138]\n",
    "seqapoESiniperca = apoeSiniperca[0].seq[:138]\n"
   ]
  },
  {
   "cell_type": "code",
   "execution_count": 4,
   "metadata": {},
   "outputs": [],
   "source": [
    "#membuat multiple sequence alignment\n",
    "sequences = [\n",
    "    SeqRecord(seqapoeAcipenser,id = 'Acipenser'),\n",
    "    SeqRecord(seqapoeBos,id = 'Bos Taurus'),\n",
    "    SeqRecord(seqapoECercopithecus,id = 'Cercoptithecus'),\n",
    "    SeqRecord(seqapoeOryctolagus,id = 'Oryctolagus'),\n",
    "    SeqRecord(seqapoePan,id = 'Pan troglodytes'),\n",
    "    SeqRecord(seqapoESiniperca,id = 'Siniperca')  \n",
    "]"
   ]
  },
  {
   "cell_type": "code",
   "execution_count": 5,
   "metadata": {},
   "outputs": [],
   "source": [
    "# Membuat fungsi hamming distance\n",
    "def hamming_distance(seq1, seq2):\n",
    "    return sum(c1 != c2 for c1, c2 in zip(seq1, seq2))"
   ]
  },
  {
   "cell_type": "code",
   "execution_count": 6,
   "metadata": {},
   "outputs": [],
   "source": [
    "#membuat matriks hamming distance\n",
    "num_sequences = len(sequences)\n",
    "hamming_matrix = np.zeros((num_sequences, num_sequences), dtype=int)"
   ]
  },
  {
   "cell_type": "code",
   "execution_count": 7,
   "metadata": {},
   "outputs": [],
   "source": [
    "#mengisi matriks hamming distance\n",
    "for i in range(num_sequences):\n",
    "    for j in range(num_sequences):\n",
    "        hamming_matrix[i, j] = hamming_distance(sequences[i].seq, sequences[j].seq)"
   ]
  },
  {
   "cell_type": "code",
   "execution_count": 8,
   "metadata": {},
   "outputs": [],
   "source": [
    "# Mengonversi matriks menjadi DataFrame agar lebih rapi\n",
    "sequence_ids = [seq.id for seq in sequences]\n",
    "hamming_df = pd.DataFrame(hamming_matrix, index=sequence_ids, columns=sequence_ids)\n",
    "# Menggunakan tabulate untuk mem print DataFrame dalam format tabel\n",
    "table = tabulate(hamming_df, headers='keys', tablefmt='grid')"
   ]
  },
  {
   "cell_type": "code",
   "execution_count": 9,
   "metadata": {},
   "outputs": [
    {
     "name": "stdout",
     "output_type": "stream",
     "text": [
      "Matriks Hamming Distance:\n",
      "+-----------------+-------------+--------------+------------------+---------------+-------------------+-------------+\n",
      "|                 |   Acipenser |   Bos Taurus |   Cercoptithecus |   Oryctolagus |   Pan troglodytes |   Siniperca |\n",
      "+=================+=============+==============+==================+===============+===================+=============+\n",
      "| Acipenser       |           0 |           99 |              101 |            94 |               103 |         102 |\n",
      "+-----------------+-------------+--------------+------------------+---------------+-------------------+-------------+\n",
      "| Bos Taurus      |          99 |            0 |              111 |            99 |                99 |          96 |\n",
      "+-----------------+-------------+--------------+------------------+---------------+-------------------+-------------+\n",
      "| Cercoptithecus  |         101 |          111 |                0 |           105 |               103 |         111 |\n",
      "+-----------------+-------------+--------------+------------------+---------------+-------------------+-------------+\n",
      "| Oryctolagus     |          94 |           99 |              105 |             0 |                58 |         105 |\n",
      "+-----------------+-------------+--------------+------------------+---------------+-------------------+-------------+\n",
      "| Pan troglodytes |         103 |           99 |              103 |            58 |                 0 |         112 |\n",
      "+-----------------+-------------+--------------+------------------+---------------+-------------------+-------------+\n",
      "| Siniperca       |         102 |           96 |              111 |           105 |               112 |           0 |\n",
      "+-----------------+-------------+--------------+------------------+---------------+-------------------+-------------+\n"
     ]
    }
   ],
   "source": [
    "# Mencetak matriks Hamming distance\n",
    "print(\"Matriks Hamming Distance:\")\n",
    "print(table)"
   ]
  },
  {
   "cell_type": "code",
   "execution_count": 10,
   "metadata": {},
   "outputs": [],
   "source": [
    "# Buat dendrogram\n",
    "align = MultipleSeqAlignment(sequences)\n",
    "calculator = DistanceCalculator('identity')\n",
    "dm = calculator.get_distance(align)\n"
   ]
  },
  {
   "cell_type": "code",
   "execution_count": 11,
   "metadata": {},
   "outputs": [
    {
     "name": "stderr",
     "output_type": "stream",
     "text": [
      "/var/folders/yf/pwm2z7cs7m39fl6g70nggc0r0000gn/T/ipykernel_4506/2596667190.py:9: ClusterWarning: The symmetric non-negative hollow observation matrix looks suspiciously like an uncondensed distance matrix\n",
      "  linkage_matrix = linkage(dm_matrix, method='average')\n"
     ]
    },
    {
     "data": {
      "image/png": "[encoded data removed]",
      "text/plain": [
       "<Figure size 1000x500 with 1 Axes>"
      ]
     },
     "metadata": {},
     "output_type": "display_data"
    }
   ],
   "source": [
    "\n",
    "# Membuat matriks Hamming\n",
    "num_sequences = len(sequences)\n",
    "hamming_matrix = np.zeros((num_sequences, num_sequences), dtype=int)\n",
    "sequence_ids = [seq.id for seq in sequences]\n",
    "hamming_df = pd.DataFrame(hamming_matrix, index=sequence_ids, columns=sequence_ids)\n",
    "\n",
    "# Menghitung matriks jarak\n",
    "dm_matrix = np.array(dm)\n",
    "linkage_matrix = linkage(dm_matrix, method='average')\n",
    "\n",
    "# Membuat plot dendrogram\n",
    "fig, ax = plt.subplots(figsize=(10, 5))\n",
    "dendrogram(linkage_matrix, labels=sequence_ids, orientation='right', ax=ax)\n",
    "\n",
    "# Menyesuaikan plot\n",
    "plt.xlabel('Jarak')\n",
    "plt.ylabel('DNA sequence')\n",
    "plt.show()\n"
   ]
  }
 ],
 "metadata": {
  "kernelspec": {
   "display_name": "Python 3",
   "language": "python",
   "name": "python3"
  },
  "language_info": {
   "codemirror_mode": {
    "name": "ipython",
    "version": 3
   },
   "file_extension": ".py",
   "mimetype": "text/x-python",
   "name": "python",
   "nbconvert_exporter": "python",
   "pygments_lexer": "ipython3",
   "version": "3.9.6"
  }
 },
 "nbformat": 4,
 "nbformat_minor": 2
}
