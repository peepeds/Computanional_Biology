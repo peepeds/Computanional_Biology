{
 "cells": [
  {
   "cell_type": "code",
   "execution_count": 1,
   "metadata": {},
   "outputs": [],
   "source": [
    "#import library yang dibutuhkan\n",
    "from Bio import Entrez, SeqIO\n"
   ]
  },
  {
   "cell_type": "code",
   "execution_count": 2,
   "metadata": {},
   "outputs": [],
   "source": [
    "#definisikan email\n",
    "Entrez.email = 'learnbiopython@gmail.com'"
   ]
  },
  {
   "cell_type": "code",
   "execution_count": 3,
   "metadata": {},
   "outputs": [],
   "source": [
    "#baca file fasta dan ambil ID\n",
    "apoe = list(SeqIO.parse(\"APOE-Acipenser.fasta\", \"fasta\"))\n",
    "seqApoeID = apoe[0].id\n"
   ]
  },
  {
   "cell_type": "code",
   "execution_count": 4,
   "metadata": {},
   "outputs": [],
   "source": [
    "#definisikan fungsi untuk mengambil record dari database\n",
    "def fetch_record(accession):\n",
    "    handle = Entrez.efetch(db=\"nucleotide\", id=accession, rettype=\"gb\", retmode=\"text\")\n",
    "    record = SeqIO.read(handle, \"genbank\")\n",
    "    handle.close()\n",
    "    return record\n"
   ]
  },
  {
   "cell_type": "code",
   "execution_count": 5,
   "metadata": {},
   "outputs": [],
   "source": [
    "#panggil fungsi fetch_record dan simpan ke dalam variabel record\n",
    "record = fetch_record(seqApoeID)"
   ]
  },
  {
   "cell_type": "code",
   "execution_count": 6,
   "metadata": {},
   "outputs": [
    {
     "name": "stdout",
     "output_type": "stream",
     "text": [
      "ID: KY560197.1\n",
      "Name: KY560197.1\n",
      "Description: KY560197.1 Acipenser ruthenus ApoE (apoE) mRNA, partial cds\n",
      "Number of features: 0\n",
      "Seq('CGAGAAGTTGGAACCCTACACCGGAAATATCAGAGAGTCCACCCAGCAGAAGCT...GCA')\n",
      "Species : Acipenser ruthenus\n",
      "Location : [0:138](+)\n",
      "Taxon : Eukaryota, Metazoa, Chordata, Craniata, Vertebrata, Euteleostomi, Actinopterygii, Chondrostei, Acipenseriformes, Acipenseridae, Acipenser\n",
      "Taxon ID : taxon:7906\n",
      "Molecule Type : mRNA\n",
      "Gene: apoE\n",
      "Protein ID: ASM79337.1\n",
      "Protein Name: ApoE\n",
      "Codon start: 2\n"
     ]
    }
   ],
   "source": [
    "# Ambil fitur gen dan CDS\n",
    "gene_feature = next((feature for feature in record.features if feature.type == \"gene\"), None)\n",
    "cds_feature = next((feature for feature in record.features if feature.type == \"CDS\"), None)\n",
    "\n",
    "print(apoe[0])\n",
    "\n",
    "# Print informasi yang diinginkan\n",
    "print(f'Species : {record.annotations[\"organism\"]}')\n",
    "\n",
    "print(f'Location : {record.features[0].location}')\n",
    "print(f'Taxon : {\", \".join(record.annotations[\"taxonomy\"])}')\n",
    "print(f'Taxon ID : {\", \".join(record.features[0].qualifiers[\"db_xref\"])}')\n",
    "print(f'Molecule Type : {record.annotations[\"molecule_type\"]}')\n",
    "\n",
    "if gene_feature:\n",
    "    print(f\"Gene: {gene_feature.qualifiers.get('gene', [''])[0]}\")\n",
    "else:\n",
    "    print(\"Gene information not found.\")\n",
    "\n",
    "if cds_feature:\n",
    "    print(f\"Protein ID: {cds_feature.qualifiers.get('protein_id', [''])[0]}\")\n",
    "    print(f\"Protein Name: {cds_feature.qualifiers.get('product', [''])[0]}\")\n",
    "    print(f\"Codon start: {cds_feature.qualifiers.get('codon_start', [''])[0]}\")\n",
    "else:\n",
    "    print(\"CDS information not found.\")\n"
   ]
  }
 ],
 "metadata": {
  "language_info": {
   "name": "python"
  }
 },
 "nbformat": 4,
 "nbformat_minor": 2
}
