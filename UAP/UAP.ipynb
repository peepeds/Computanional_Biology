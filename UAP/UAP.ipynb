{
 "cells": [
  {
   "cell_type": "markdown",
   "metadata": {},
   "source": [
    "Berikut adalah hal / kode umum yang digunakan untuk setiap nomor"
   ]
  },
  {
   "cell_type": "code",
   "execution_count": 1,
   "metadata": {},
   "outputs": [
    {
     "name": "stderr",
     "output_type": "stream",
     "text": [
      "/Users/ed282828/Library/Python/3.9/lib/python/site-packages/Bio/pairwise2.py:278: BiopythonDeprecationWarning: Bio.pairwise2 has been deprecated, and we intend to remove it in a future release of Biopython. As an alternative, please consider using Bio.Align.PairwiseAligner as a replacement, and contact the Biopython developers if you still need the Bio.pairwise2 module.\n",
      "  warnings.warn(\n"
     ]
    }
   ],
   "source": [
    "#library\n",
    "from Bio import Entrez, SeqIO , pairwise2\n",
    "from Bio.Seq import Seq\n",
    "import matplotlib.pyplot as plt\n",
    "import numpy as np\n",
    "from Bio.pairwise2 import format_alignment\n",
    "from scipy.optimize import differential_evolution\n",
    "from Bio.SeqRecord import SeqRecord\n",
    "from Bio.Align import MultipleSeqAlignment\n",
    "from Bio.Phylo.TreeConstruction import DistanceCalculator\n",
    "import pandas as pd\n",
    "from scipy.cluster.hierarchy import dendrogram, linkage\n",
    "import matplotlib.pyplot as plt\n",
    "from tabulate import tabulate\n",
    "\n",
    "#email\n",
    "Entrez.email = 'learnbiopython@gmail.com'\n",
    "\n",
    "#pembacaan file fasta\n",
    "apoeAcipenser = list(SeqIO.parse(\"APOE-Acipenser.fasta\", \"fasta\"))\n",
    "apoeChristchurch = list(SeqIO.parse(\"APOE-Christchurch.fasta\", \"fasta\")) \n",
    "apoeBos = list(SeqIO.parse(\"APOE-Bos.fasta\", \"fasta\"))\n",
    "apoeCercopithecus = list(SeqIO.parse(\"APOE-Cercopithecus.fasta\", \"fasta\"))\n",
    "apoeOryctolagus = list(SeqIO.parse(\"APOE-Oryctolagus.fasta\", \"fasta\"))\n",
    "apoePan = list(SeqIO.parse(\"APOE-Pan.fasta\", \"fasta\"))\n",
    "apoeSiniperca = list(SeqIO.parse(\"APOE-Siniperca.fasta\", \"fasta\"))"
   ]
  },
  {
   "cell_type": "markdown",
   "metadata": {},
   "source": [
    "Nomor 1"
   ]
  },
  {
   "cell_type": "code",
   "execution_count": 2,
   "metadata": {},
   "outputs": [],
   "source": [
    "#baca file fasta dan ambil ID\n",
    "seqApoeID = apoeAcipenser[0].id"
   ]
  },
  {
   "cell_type": "code",
   "execution_count": 3,
   "metadata": {},
   "outputs": [],
   "source": [
    "#definisikan fungsi untuk mengambil record dari database\n",
    "def fetch_record(accession):\n",
    "    handle = Entrez.efetch(db=\"nucleotide\", id=accession, rettype=\"gb\", retmode=\"text\")\n",
    "    record = SeqIO.read(handle, \"genbank\")\n",
    "    handle.close()\n",
    "    return record\n"
   ]
  },
  {
   "cell_type": "code",
   "execution_count": 4,
   "metadata": {},
   "outputs": [],
   "source": [
    "#panggil fungsi fetch_record dan simpan ke dalam variabel record\n",
    "record = fetch_record(seqApoeID)"
   ]
  },
  {
   "cell_type": "code",
   "execution_count": 5,
   "metadata": {},
   "outputs": [
    {
     "name": "stdout",
     "output_type": "stream",
     "text": [
      "ID: KY560197.1\n",
      "Name: KY560197.1\n",
      "Description: KY560197.1 Acipenser ruthenus ApoE (apoE) mRNA, partial cds\n",
      "Number of features: 0\n",
      "Seq('CGAGAAGTTGGAACCCTACACCGGAAATATCAGAGAGTCCACCCAGCAGAAGCT...GCA')\n",
      "Species : Acipenser ruthenus\n",
      "Location : [0:138](+)\n",
      "Taxon : Eukaryota, Metazoa, Chordata, Craniata, Vertebrata, Euteleostomi, Actinopterygii, Chondrostei, Acipenseriformes, Acipenseridae, Acipenser\n",
      "Taxon ID : taxon:7906\n",
      "Molecule Type : mRNA\n",
      "Gene: apoE\n",
      "Protein ID: ASM79337.1\n",
      "Protein Name: ApoE\n",
      "Codon start: 2\n"
     ]
    }
   ],
   "source": [
    "# Ambil fitur gen dan CDS\n",
    "gene_feature = next((feature for feature in record.features if feature.type == \"gene\"), None)\n",
    "cds_feature = next((feature for feature in record.features if feature.type == \"CDS\"), None)\n",
    "\n",
    "print(apoeAcipenser[0])\n",
    "\n",
    "# Print informasi yang diinginkan\n",
    "print(f'Species : {record.annotations[\"organism\"]}')\n",
    "\n",
    "print(f'Location : {record.features[0].location}')\n",
    "print(f'Taxon : {\", \".join(record.annotations[\"taxonomy\"])}')\n",
    "print(f'Taxon ID : {\", \".join(record.features[0].qualifiers[\"db_xref\"])}')\n",
    "print(f'Molecule Type : {record.annotations[\"molecule_type\"]}')\n",
    "\n",
    "if gene_feature:\n",
    "    print(f\"Gene: {gene_feature.qualifiers.get('gene', [''])[0]}\")\n",
    "else:\n",
    "    print(\"Gene information not found.\")\n",
    "\n",
    "if cds_feature:\n",
    "    print(f\"Protein ID: {cds_feature.qualifiers.get('protein_id', [''])[0]}\")\n",
    "    print(f\"Protein Name: {cds_feature.qualifiers.get('product', [''])[0]}\")\n",
    "    print(f\"Codon start: {cds_feature.qualifiers.get('codon_start', [''])[0]}\")\n",
    "else:\n",
    "    print(\"CDS information not found.\")\n"
   ]
  },
  {
   "cell_type": "markdown",
   "metadata": {},
   "source": [
    "Nomor 2"
   ]
  },
  {
   "cell_type": "code",
   "execution_count": 6,
   "metadata": {},
   "outputs": [],
   "source": [
    "#mengambil sequens dari file fasta\n",
    "seqApoeAcipenser = apoeAcipenser[0].seq\n",
    "seqApoeChristchurch = apoeChristchurch[0].seq"
   ]
  },
  {
   "cell_type": "code",
   "execution_count": 7,
   "metadata": {},
   "outputs": [
    {
     "name": "stderr",
     "output_type": "stream",
     "text": [
      "/Users/ed282828/Library/Python/3.9/lib/python/site-packages/Bio/Seq.py:2880: BiopythonWarning: Partial codon, len(sequence) not a multiple of three. Explicitly trim the sequence or add trailing N before translation. This may become an error in future.\n",
      "  warnings.warn(\n"
     ]
    }
   ],
   "source": [
    "#translasikan menjadi asam amino\n",
    "acidAcipenser = seqApoeAcipenser.translate()\n",
    "acidChristchurch = seqApoeChristchurch.translate()"
   ]
  },
  {
   "cell_type": "code",
   "execution_count": 8,
   "metadata": {},
   "outputs": [
    {
     "name": "stdout",
     "output_type": "stream",
     "text": [
      "Acid Acipenser :  REVGTLHRKY\n"
     ]
    }
   ],
   "source": [
    "#mencetak hasil\n",
    "print(\"Acid Acipenser : \", acidAcipenser[0:10])"
   ]
  },
  {
   "cell_type": "code",
   "execution_count": 9,
   "metadata": {},
   "outputs": [],
   "source": [
    "#potong sequence acipenser\n",
    "# 30 karena 1 codon = 3 basa\n",
    "seqApoeAcipenser = seqApoeAcipenser[0:30]"
   ]
  },
  {
   "cell_type": "code",
   "execution_count": 10,
   "metadata": {},
   "outputs": [
    {
     "name": "stdout",
     "output_type": "stream",
     "text": [
      "-1\n"
     ]
    }
   ],
   "source": [
    "#cari apakah asam amino acipenser terkanal di christchurch\n",
    "find = acidChristchurch.find(acidAcipenser)\n",
    "print(find)"
   ]
  },
  {
   "cell_type": "code",
   "execution_count": 11,
   "metadata": {},
   "outputs": [],
   "source": [
    "# Mutasi yang akan dilakukan adalah mutasi missense\n",
    "# Mutasi missense adalah mutasi yang mengubah satu basa menjadi basa lain\n",
    "# Mutasi ini yang paling mudah dilakukan karena hanya mengubah basa \n",
    "# Bukan menghapus basa atau menambah basa\n",
    "\n",
    "# Fungsi untuk mencari mutasi yang diperlukan\n",
    "# fungsi ini dilakukan agar sequence target dibuah menjadi seequence tujuan\n",
    "def find_mutations(seq1, seq2):\n",
    "    mutations = []\n",
    "    for i in range(len(seq1)):\n",
    "        if seq1[i] != seq2[i]:\n",
    "            mutations.append((i, seq1[i], seq2[i]))\n",
    "    return mutations"
   ]
  },
  {
   "cell_type": "code",
   "execution_count": 12,
   "metadata": {},
   "outputs": [],
   "source": [
    "# Mencari mutasi yang diperlukan\n",
    "mutations = find_mutations(seqApoeAcipenser, seqApoeChristchurch)"
   ]
  },
  {
   "cell_type": "code",
   "execution_count": 13,
   "metadata": {},
   "outputs": [
    {
     "name": "stdout",
     "output_type": "stream",
     "text": [
      "Mutasi yang diperlukan untuk mengubah ApoE Acipenser menjadi ApoE Christchurch:\n",
      "Posisi 0: C -> A\n",
      "Posisi 2: A -> G\n",
      "Posisi 3: G -> A\n",
      "Posisi 4: A -> G\n",
      "Posisi 5: A -> C\n",
      "Posisi 6: G -> C\n",
      "Posisi 7: T -> G\n",
      "Posisi 8: T -> C\n",
      "Posisi 9: G -> T\n",
      "Posisi 10: G -> T\n",
      "Posisi 12: A -> C\n",
      "Posisi 13: C -> G\n",
      "Posisi 15: C -> A\n",
      "Posisi 16: T -> G\n",
      "Posisi 17: A -> C\n",
      "Posisi 18: C -> T\n",
      "Posisi 19: A -> T\n",
      "Posisi 20: C -> G\n",
      "Posisi 23: G -> C\n",
      "Posisi 25: A -> G\n",
      "Posisi 26: A -> G\n",
      "Posisi 28: A -> G\n",
      "Posisi 29: T -> G\n"
     ]
    }
   ],
   "source": [
    "# Output posisi dan mutasi yang diperlukan\n",
    "print(\"Mutasi yang diperlukan untuk mengubah ApoE Acipenser menjadi ApoE Christchurch:\")\n",
    "for pos, base_acipenser, base_christchurch in mutations:\n",
    "    print(f\"Posisi {pos}: {base_acipenser} -> {base_christchurch}\")"
   ]
  },
  {
   "cell_type": "code",
   "execution_count": 14,
   "metadata": {},
   "outputs": [],
   "source": [
    "#Menerapkan mutasi pada tingkat DNA\n",
    "#bertujuan untuk mengganti setiap karakter pada urutan DNA ApoE Acipenser \n",
    "#dengan karakter yang sesuai pada urutan DNA ApoE Christchurch\n",
    "seqApoeAcipenser_mutated = list(seqApoeAcipenser)\n",
    "for pos, _, base_christchurch in mutations:\n",
    "    seqApoeAcipenser_mutated[pos] = base_christchurch\n",
    "seqApoeAcipenser_mutated = ''.join(seqApoeAcipenser_mutated)"
   ]
  },
  {
   "cell_type": "code",
   "execution_count": 15,
   "metadata": {},
   "outputs": [],
   "source": [
    "# Menerjemahkan kembali urutan DNA yang sudah dimutasi ke dalam asam amino\n",
    "acidAcipenser_mutated = Seq(seqApoeAcipenser_mutated).translate()"
   ]
  },
  {
   "cell_type": "code",
   "execution_count": 16,
   "metadata": {},
   "outputs": [
    {
     "name": "stdout",
     "output_type": "stream",
     "text": [
      "\n",
      "Urutan ApoE Acipenser setelah dimutasi:\n",
      "AGGAGCCGCTTACGCAGCTTGCGCAGGTGG\n",
      "\n",
      "Asam amino ApoE Acipenser setelah dimutasi:\n",
      "RSRLRSLRRW\n",
      "\n",
      "Asam amino ApoE Christchurch:\n",
      "RSRLRSLRRWEARLTRSSSVLWPSMACTSPRYCTRR\n",
      "\n",
      "Asam amino ApoE Acipenser termutasu ditemukan pada index:\n",
      "0\n"
     ]
    }
   ],
   "source": [
    "# Output hasil urutan yang sudah dimutasi\n",
    "print(\"\\nUrutan ApoE Acipenser setelah dimutasi:\")\n",
    "print(seqApoeAcipenser_mutated)\n",
    "print(\"\\nAsam amino ApoE Acipenser setelah dimutasi:\")\n",
    "print(acidAcipenser_mutated)\n",
    "print(\"\\nAsam amino ApoE Christchurch:\")\n",
    "print(acidChristchurch)\n",
    "print(\"\\nAsam amino ApoE Acipenser termutasu ditemukan pada index:\")\n",
    "print(acidChristchurch.find(acidAcipenser_mutated))"
   ]
  },
  {
   "cell_type": "markdown",
   "metadata": {},
   "source": [
    "Nomor 3"
   ]
  },
  {
   "cell_type": "code",
   "execution_count": 17,
   "metadata": {},
   "outputs": [],
   "source": [
    "#mengambil sequence\n",
    "seqApoe = apoeAcipenser[0].seq"
   ]
  },
  {
   "cell_type": "code",
   "execution_count": 18,
   "metadata": {},
   "outputs": [],
   "source": [
    "#mendefinisikan fungsi untuk menghitung jumlah basa per komponen\n",
    "def count_seq(seq):\n",
    "    countA = seq.count(\"A\")\n",
    "    countC = seq.count(\"C\")\n",
    "    countG = seq.count(\"G\")\n",
    "    countT = seq.count(\"T\")\n",
    "    return {\n",
    "        \"A\": countA,\n",
    "        \"C\": countC,\n",
    "        \"G\": countG,\n",
    "        \"T\": countT\n",
    "    }\n",
    "\n",
    "#mendefinisikan fungsi untuk menghitung persentase basa per komponen\n",
    "def percentage_seq(seq):\n",
    "    percentage_seqA = round(seq.count(\"A\") / len(seq) * 100,2) \n",
    "    percentage_seqC = round(seq.count(\"C\") / len(seq) * 100,2)\n",
    "    percentage_seqG = round(seq.count(\"G\") / len(seq) * 100,2)\n",
    "    percentage_seqT = round(seq.count(\"T\") / len(seq) * 100,2)\n",
    "    return {\n",
    "        \"A\": percentage_seqA,\n",
    "        \"C\": percentage_seqC,\n",
    "        \"G\": percentage_seqG,\n",
    "        \"T\": percentage_seqT\n",
    "    }\n",
    "\n",
    "# mendefinisikan fungsi untuk menghitung GC skewness\n",
    "# menghitung GC skewness dengan rumus (G-C)/(G+C)\n",
    "# window adalah panjang sekuens yang akan dihitung GC skewnessnya\n",
    "# skewness melihat komposisis basa mana yang lebih banyak\n",
    "# jika skewness > 0 maka basa GC lebih banyak      \n",
    "def gc_skew(dna, window=5):\n",
    "    skews = []\n",
    "    for i in range(0, len(dna), window):\n",
    "        subseq = dna[i:i+window]\n",
    "        g_count = subseq.count('G')\n",
    "        c_count = subseq.count('C')\n",
    "        if g_count + c_count !=0:\n",
    "            skew = (g_count - c_count)/(g_count + c_count) \n",
    "            skews.append(skew)\n",
    "        else:\n",
    "            skews.append(0)\n",
    "\n",
    "    return skews"
   ]
  },
  {
   "cell_type": "code",
   "execution_count": 19,
   "metadata": {},
   "outputs": [
    {
     "name": "stdout",
     "output_type": "stream",
     "text": [
      "komponen masing - masing basa\n",
      "{'A': 43, 'C': 33, 'G': 40, 'T': 22}\n",
      "persentase masing - masing basa\n",
      "{'A': 31.16, 'C': 23.91, 'G': 28.99, 'T': 15.94}\n"
     ]
    }
   ],
   "source": [
    "#cetak hasil analisis\n",
    "print(\"komponen masing - masing basa\")\n",
    "print(count_seq(seqApoe))\n",
    "print(\"persentase masing - masing basa\")\n",
    "print(percentage_seq(seqApoe))"
   ]
  },
  {
   "cell_type": "code",
   "execution_count": 20,
   "metadata": {},
   "outputs": [],
   "source": [
    "#panggil gungsi gc_skew dan tampung dalam variabel\n",
    "apoE_gc_skew = gc_skew(seqApoe)"
   ]
  },
  {
   "cell_type": "code",
   "execution_count": 21,
   "metadata": {},
   "outputs": [
    {
     "data": {
      "image/png": "[encoded data removed]",
      "text/plain": [
       "<Figure size 640x480 with 1 Axes>"
      ]
     },
     "metadata": {},
     "output_type": "display_data"
    }
   ],
   "source": [
    "#buat plot untuk ditampilkan\n",
    "plt.plot(apoE_gc_skew, label='gc_skew' , color = 'blue')\n",
    "\n",
    "plt.xlabel('Posisi')\n",
    "plt.ylabel('skewness')\n",
    "plt.title('GC Skewness dengan windows 5')\n",
    "\n",
    "plt.legend()\n",
    "plt.show()"
   ]
  },
  {
   "cell_type": "markdown",
   "metadata": {},
   "source": [
    "Nomor 4"
   ]
  },
  {
   "cell_type": "code",
   "execution_count": 22,
   "metadata": {},
   "outputs": [],
   "source": [
    "#mengambil sequence dari file fasta\n",
    "#sequence yang diambil hanya 138 karakter pertama\n",
    "# hal ini dilakukan karena MSA hanya mendukung jumlah alignment yang sama\n",
    "seqapoeAcipenser = apoeAcipenser[0].seq[:138]\n",
    "seqapoeBos = apoeBos[0].seq[:138]\n",
    "seqapoECercopithecus = apoeCercopithecus[0].seq[:138]\n",
    "seqapoeOryctolagus= apoeOryctolagus[0].seq[:138]\n",
    "seqapoePan = apoePan[0].seq[:138]\n",
    "seqapoeSiniperca = apoeSiniperca[0].seq[:138]"
   ]
  },
  {
   "cell_type": "code",
   "execution_count": 23,
   "metadata": {},
   "outputs": [],
   "source": [
    "#membuat multiple sequence alignment\n",
    "sequences = [\n",
    "    SeqRecord(seqapoeAcipenser,id = 'Acipenser'),\n",
    "    SeqRecord(seqapoeBos,id = 'Bos Taurus'),\n",
    "    SeqRecord(seqapoECercopithecus,id = 'Cercoptithecus aethiops'),\n",
    "    SeqRecord(seqapoeOryctolagus,id = 'Oryctolagus cuniculus'),\n",
    "    SeqRecord(seqapoePan,id = 'Pan troglodytes'),\n",
    "    SeqRecord(seqapoeSiniperca,id = 'Siniperca chuatsi')  \n",
    "]"
   ]
  },
  {
   "cell_type": "code",
   "execution_count": 24,
   "metadata": {},
   "outputs": [],
   "source": [
    "#menyimpan hasil multiple sequence alignment dalam variabel\n",
    "align = MultipleSeqAlignment(sequences)"
   ]
  },
  {
   "cell_type": "code",
   "execution_count": 25,
   "metadata": {},
   "outputs": [],
   "source": [
    "#fungsi untuk meelihat daerah yang termutasi\n",
    "def mutations(alignment, acipenser_seq):\n",
    "    results = {}\n",
    "    acipenser_seq_str = str(acipenser_seq)\n",
    "\n",
    "    for record in alignment:\n",
    "        if record.id != 'Acipenser':\n",
    "            conserved = []\n",
    "            mutations = []\n",
    "            for i, (acipenser_res, other_res) in enumerate(zip(acipenser_seq_str, str(record.seq))):\n",
    "                if acipenser_res == other_res:\n",
    "                    conserved.append((i+1, acipenser_res))\n",
    "                else:\n",
    "                    mutations.append((i+1, acipenser_res, other_res))\n",
    "            results[record.id] = {\n",
    "                'conserved': conserved,\n",
    "                'mutations': mutations\n",
    "            }\n",
    "    return results"
   ]
  },
  {
   "cell_type": "code",
   "execution_count": 26,
   "metadata": {},
   "outputs": [],
   "source": [
    "#fungsi untuk melihat daerah konservatif\n",
    "def conserved(alignment, acipenser_seq):\n",
    "    results = {}\n",
    "    acipenser_seq_str = str(acipenser_seq)\n",
    "\n",
    "    for record in alignment:\n",
    "        if record.id != 'Acipenser':\n",
    "            comparison = []\n",
    "            for acipenser_res, other_res in zip(acipenser_seq_str, str(record.seq)):\n",
    "                if acipenser_res == other_res:\n",
    "                    comparison.append(acipenser_res)\n",
    "                else:\n",
    "                    comparison.append('x')\n",
    "            results[record.id] = ''.join(comparison)\n",
    "    return results"
   ]
  },
  {
   "cell_type": "code",
   "execution_count": 27,
   "metadata": {},
   "outputs": [
    {
     "name": "stdout",
     "output_type": "stream",
     "text": [
      "\n",
      "Hasil untuk Bos Taurus:\n",
      "Mutasi:\n",
      "Posisi 2: Acipenser (G) -> Bos Taurus (C)\n",
      "Posisi 3: Acipenser (A) -> Bos Taurus (G)\n",
      "Posisi 6: Acipenser (A) -> Bos Taurus (G)\n",
      "Posisi 8: Acipenser (T) -> Bos Taurus (C)\n",
      "Posisi 9: Acipenser (T) -> Bos Taurus (G)\n",
      "Posisi 10: Acipenser (G) -> Bos Taurus (A)\n",
      "Posisi 11: Acipenser (G) -> Bos Taurus (A)\n",
      "Posisi 12: Acipenser (A) -> Bos Taurus (G)\n",
      "Posisi 13: Acipenser (A) -> Bos Taurus (G)\n",
      "Posisi 14: Acipenser (C) -> Bos Taurus (A)\n",
      "Posisi 16: Acipenser (C) -> Bos Taurus (G)\n",
      "Posisi 17: Acipenser (T) -> Bos Taurus (C)\n",
      "Posisi 18: Acipenser (A) -> Bos Taurus (G)\n",
      "Posisi 19: Acipenser (C) -> Bos Taurus (G)\n",
      "Posisi 20: Acipenser (A) -> Bos Taurus (T)\n",
      "Posisi 21: Acipenser (C) -> Bos Taurus (T)\n",
      "Posisi 22: Acipenser (C) -> Bos Taurus (T)\n",
      "Posisi 23: Acipenser (G) -> Bos Taurus (C)\n",
      "Posisi 24: Acipenser (G) -> Bos Taurus (T)\n",
      "Posisi 25: Acipenser (A) -> Bos Taurus (G)\n",
      "Posisi 26: Acipenser (A) -> Bos Taurus (G)\n",
      "Posisi 28: Acipenser (T) -> Bos Taurus (G)\n",
      "Posisi 29: Acipenser (A) -> Bos Taurus (G)\n",
      "Posisi 30: Acipenser (T) -> Bos Taurus (C)\n",
      "Posisi 31: Acipenser (C) -> Bos Taurus (G)\n",
      "Posisi 33: Acipenser (G) -> Bos Taurus (A)\n",
      "Posisi 34: Acipenser (A) -> Bos Taurus (G)\n",
      "Posisi 35: Acipenser (G) -> Bos Taurus (A)\n",
      "Posisi 37: Acipenser (G) -> Bos Taurus (C)\n",
      "Posisi 38: Acipenser (T) -> Bos Taurus (G)\n",
      "Posisi 40: Acipenser (C) -> Bos Taurus (G)\n",
      "Posisi 41: Acipenser (A) -> Bos Taurus (G)\n",
      "Posisi 42: Acipenser (C) -> Bos Taurus (T)\n",
      "Posisi 43: Acipenser (C) -> Bos Taurus (T)\n",
      "Posisi 44: Acipenser (C) -> Bos Taurus (G)\n",
      "Posisi 45: Acipenser (A) -> Bos Taurus (G)\n",
      "Posisi 46: Acipenser (G) -> Bos Taurus (C)\n",
      "Posisi 49: Acipenser (G) -> Bos Taurus (A)\n",
      "Posisi 50: Acipenser (A) -> Bos Taurus (T)\n",
      "Posisi 51: Acipenser (A) -> Bos Taurus (C)\n",
      "Posisi 54: Acipenser (T) -> Bos Taurus (A)\n",
      "Posisi 55: Acipenser (G) -> Bos Taurus (A)\n",
      "Posisi 57: Acipenser (G) -> Bos Taurus (C)\n",
      "Posisi 61: Acipenser (C) -> Bos Taurus (A)\n",
      "Posisi 62: Acipenser (T) -> Bos Taurus (A)\n",
      "Posisi 63: Acipenser (T) -> Bos Taurus (G)\n",
      "Posisi 64: Acipenser (G) -> Bos Taurus (A)\n",
      "Posisi 65: Acipenser (C) -> Bos Taurus (T)\n",
      "Posisi 66: Acipenser (A) -> Bos Taurus (G)\n",
      "Posisi 67: Acipenser (G) -> Bos Taurus (A)\n",
      "Posisi 68: Acipenser (C) -> Bos Taurus (A)\n",
      "Posisi 69: Acipenser (A) -> Bos Taurus (G)\n",
      "Posisi 71: Acipenser (A) -> Bos Taurus (T)\n",
      "Posisi 75: Acipenser (T) -> Bos Taurus (G)\n",
      "Posisi 76: Acipenser (C) -> Bos Taurus (T)\n",
      "Posisi 77: Acipenser (T) -> Bos Taurus (G)\n",
      "Posisi 78: Acipenser (T) -> Bos Taurus (G)\n",
      "Posisi 80: Acipenser (G) -> Bos Taurus (T)\n",
      "Posisi 81: Acipenser (A) -> Bos Taurus (T)\n",
      "Posisi 83: Acipenser (A) -> Bos Taurus (C)\n",
      "Posisi 84: Acipenser (G) -> Bos Taurus (C)\n",
      "Posisi 85: Acipenser (T) -> Bos Taurus (G)\n",
      "Posisi 86: Acipenser (G) -> Bos Taurus (T)\n",
      "Posisi 87: Acipenser (C) -> Bos Taurus (G)\n",
      "Posisi 88: Acipenser (C) -> Bos Taurus (G)\n",
      "Posisi 89: Acipenser (G) -> Bos Taurus (T)\n",
      "Posisi 92: Acipenser (A) -> Bos Taurus (T)\n",
      "Posisi 93: Acipenser (G) -> Bos Taurus (C)\n",
      "Posisi 94: Acipenser (T) -> Bos Taurus (G)\n",
      "Posisi 96: Acipenser (T) -> Bos Taurus (G)\n",
      "Posisi 98: Acipenser (C) -> Bos Taurus (T)\n",
      "Posisi 99: Acipenser (A) -> Bos Taurus (T)\n",
      "Posisi 100: Acipenser (A) -> Bos Taurus (C)\n",
      "Posisi 101: Acipenser (G) -> Bos Taurus (T)\n",
      "Posisi 102: Acipenser (A) -> Bos Taurus (G)\n",
      "Posisi 106: Acipenser (C) -> Bos Taurus (G)\n",
      "Posisi 107: Acipenser (T) -> Bos Taurus (G)\n",
      "Posisi 108: Acipenser (T) -> Bos Taurus (A)\n",
      "Posisi 109: Acipenser (C) -> Bos Taurus (T)\n",
      "Posisi 110: Acipenser (A) -> Bos Taurus (G)\n",
      "Posisi 111: Acipenser (A) -> Bos Taurus (C)\n",
      "Posisi 115: Acipenser (T) -> Bos Taurus (G)\n",
      "Posisi 116: Acipenser (A) -> Bos Taurus (C)\n",
      "Posisi 117: Acipenser (A) -> Bos Taurus (G)\n",
      "Posisi 119: Acipenser (G) -> Bos Taurus (A)\n",
      "Posisi 120: Acipenser (C) -> Bos Taurus (T)\n",
      "Posisi 122: Acipenser (G) -> Bos Taurus (T)\n",
      "Posisi 123: Acipenser (A) -> Bos Taurus (G)\n",
      "Posisi 125: Acipenser (G) -> Bos Taurus (A)\n",
      "Posisi 126: Acipenser (A) -> Bos Taurus (G)\n",
      "Posisi 128: Acipenser (T) -> Bos Taurus (G)\n",
      "Posisi 129: Acipenser (T) -> Bos Taurus (A)\n",
      "Posisi 130: Acipenser (C) -> Bos Taurus (G)\n",
      "Posisi 132: Acipenser (A) -> Bos Taurus (G)\n",
      "Posisi 133: Acipenser (G) -> Bos Taurus (C)\n",
      "Posisi 134: Acipenser (A) -> Bos Taurus (T)\n",
      "Posisi 135: Acipenser (A) -> Bos Taurus (G)\n",
      "Posisi 137: Acipenser (C) -> Bos Taurus (G)\n",
      "Posisi 138: Acipenser (A) -> Bos Taurus (G)\n",
      "\n",
      "Hasil untuk Cercoptithecus aethiops:\n",
      "Mutasi:\n",
      "Posisi 1: Acipenser (C) -> Cercoptithecus aethiops (T)\n",
      "Posisi 2: Acipenser (G) -> Cercoptithecus aethiops (C)\n",
      "Posisi 3: Acipenser (A) -> Cercoptithecus aethiops (C)\n",
      "Posisi 4: Acipenser (G) -> Cercoptithecus aethiops (C)\n",
      "Posisi 6: Acipenser (A) -> Cercoptithecus aethiops (T)\n",
      "Posisi 7: Acipenser (G) -> Cercoptithecus aethiops (C)\n",
      "Posisi 8: Acipenser (T) -> Cercoptithecus aethiops (C)\n",
      "Posisi 9: Acipenser (T) -> Cercoptithecus aethiops (C)\n",
      "Posisi 10: Acipenser (G) -> Cercoptithecus aethiops (A)\n",
      "Posisi 12: Acipenser (A) -> Cercoptithecus aethiops (C)\n",
      "Posisi 13: Acipenser (A) -> Cercoptithecus aethiops (C)\n",
      "Posisi 15: Acipenser (C) -> Cercoptithecus aethiops (T)\n",
      "Posisi 16: Acipenser (C) -> Cercoptithecus aethiops (T)\n",
      "Posisi 17: Acipenser (T) -> Cercoptithecus aethiops (C)\n",
      "Posisi 18: Acipenser (A) -> Cercoptithecus aethiops (T)\n",
      "Posisi 20: Acipenser (A) -> Cercoptithecus aethiops (C)\n",
      "Posisi 21: Acipenser (C) -> Cercoptithecus aethiops (T)\n",
      "Posisi 24: Acipenser (G) -> Cercoptithecus aethiops (C)\n",
      "Posisi 25: Acipenser (A) -> Cercoptithecus aethiops (C)\n",
      "Posisi 26: Acipenser (A) -> Cercoptithecus aethiops (T)\n",
      "Posisi 27: Acipenser (A) -> Cercoptithecus aethiops (C)\n",
      "Posisi 28: Acipenser (T) -> Cercoptithecus aethiops (C)\n",
      "Posisi 29: Acipenser (A) -> Cercoptithecus aethiops (C)\n",
      "Posisi 30: Acipenser (T) -> Cercoptithecus aethiops (C)\n",
      "Posisi 32: Acipenser (A) -> Cercoptithecus aethiops (T)\n",
      "Posisi 34: Acipenser (A) -> Cercoptithecus aethiops (T)\n",
      "Posisi 36: Acipenser (A) -> Cercoptithecus aethiops (C)\n",
      "Posisi 38: Acipenser (T) -> Cercoptithecus aethiops (C)\n",
      "Posisi 39: Acipenser (C) -> Cercoptithecus aethiops (A)\n",
      "Posisi 45: Acipenser (A) -> Cercoptithecus aethiops (T)\n",
      "Posisi 46: Acipenser (G) -> Cercoptithecus aethiops (C)\n",
      "Posisi 48: Acipenser (A) -> Cercoptithecus aethiops (C)\n",
      "Posisi 50: Acipenser (A) -> Cercoptithecus aethiops (C)\n",
      "Posisi 51: Acipenser (A) -> Cercoptithecus aethiops (T)\n",
      "Posisi 52: Acipenser (G) -> Cercoptithecus aethiops (C)\n",
      "Posisi 53: Acipenser (C) -> Cercoptithecus aethiops (T)\n",
      "Posisi 55: Acipenser (G) -> Cercoptithecus aethiops (T)\n",
      "Posisi 56: Acipenser (G) -> Cercoptithecus aethiops (C)\n",
      "Posisi 58: Acipenser (C) -> Cercoptithecus aethiops (G)\n",
      "Posisi 59: Acipenser (A) -> Cercoptithecus aethiops (C)\n",
      "Posisi 60: Acipenser (G) -> Cercoptithecus aethiops (T)\n",
      "Posisi 61: Acipenser (C) -> Cercoptithecus aethiops (G)\n",
      "Posisi 62: Acipenser (T) -> Cercoptithecus aethiops (C)\n",
      "Posisi 63: Acipenser (T) -> Cercoptithecus aethiops (A)\n",
      "Posisi 65: Acipenser (C) -> Cercoptithecus aethiops (G)\n",
      "Posisi 67: Acipenser (G) -> Cercoptithecus aethiops (C)\n",
      "Posisi 68: Acipenser (C) -> Cercoptithecus aethiops (G)\n",
      "Posisi 69: Acipenser (A) -> Cercoptithecus aethiops (C)\n",
      "Posisi 70: Acipenser (G) -> Cercoptithecus aethiops (T)\n",
      "Posisi 71: Acipenser (A) -> Cercoptithecus aethiops (G)\n",
      "Posisi 72: Acipenser (T) -> Cercoptithecus aethiops (A)\n",
      "Posisi 73: Acipenser (C) -> Cercoptithecus aethiops (T)\n",
      "Posisi 74: Acipenser (T) -> Cercoptithecus aethiops (G)\n",
      "Posisi 75: Acipenser (T) -> Cercoptithecus aethiops (G)\n",
      "Posisi 76: Acipenser (C) -> Cercoptithecus aethiops (A)\n",
      "Posisi 77: Acipenser (T) -> Cercoptithecus aethiops (C)\n",
      "Posisi 78: Acipenser (T) -> Cercoptithecus aethiops (G)\n",
      "Posisi 79: Acipenser (G) -> Cercoptithecus aethiops (A)\n",
      "Posisi 82: Acipenser (G) -> Cercoptithecus aethiops (C)\n",
      "Posisi 83: Acipenser (A) -> Cercoptithecus aethiops (C)\n",
      "Posisi 84: Acipenser (G) -> Cercoptithecus aethiops (A)\n",
      "Posisi 87: Acipenser (C) -> Cercoptithecus aethiops (A)\n",
      "Posisi 88: Acipenser (C) -> Cercoptithecus aethiops (A)\n",
      "Posisi 91: Acipenser (G) -> Cercoptithecus aethiops (A)\n",
      "Posisi 92: Acipenser (A) -> Cercoptithecus aethiops (G)\n",
      "Posisi 93: Acipenser (G) -> Cercoptithecus aethiops (T)\n",
      "Posisi 95: Acipenser (C) -> Cercoptithecus aethiops (G)\n",
      "Posisi 96: Acipenser (T) -> Cercoptithecus aethiops (A)\n",
      "Posisi 97: Acipenser (C) -> Cercoptithecus aethiops (A)\n",
      "Posisi 98: Acipenser (C) -> Cercoptithecus aethiops (G)\n",
      "Posisi 99: Acipenser (A) -> Cercoptithecus aethiops (G)\n",
      "Posisi 100: Acipenser (A) -> Cercoptithecus aethiops (C)\n",
      "Posisi 101: Acipenser (G) -> Cercoptithecus aethiops (C)\n",
      "Posisi 102: Acipenser (A) -> Cercoptithecus aethiops (T)\n",
      "Posisi 103: Acipenser (G) -> Cercoptithecus aethiops (A)\n",
      "Posisi 106: Acipenser (C) -> Cercoptithecus aethiops (A)\n",
      "Posisi 107: Acipenser (T) -> Cercoptithecus aethiops (A)\n",
      "Posisi 110: Acipenser (A) -> Cercoptithecus aethiops (G)\n",
      "Posisi 111: Acipenser (A) -> Cercoptithecus aethiops (G)\n",
      "Posisi 112: Acipenser (C) -> Cercoptithecus aethiops (A)\n",
      "Posisi 114: Acipenser (G) -> Cercoptithecus aethiops (C)\n",
      "Posisi 116: Acipenser (A) -> Cercoptithecus aethiops (G)\n",
      "Posisi 117: Acipenser (A) -> Cercoptithecus aethiops (G)\n",
      "Posisi 118: Acipenser (G) -> Cercoptithecus aethiops (A)\n",
      "Posisi 120: Acipenser (C) -> Cercoptithecus aethiops (G)\n",
      "Posisi 122: Acipenser (G) -> Cercoptithecus aethiops (A)\n",
      "Posisi 123: Acipenser (A) -> Cercoptithecus aethiops (C)\n",
      "Posisi 124: Acipenser (G) -> Cercoptithecus aethiops (A)\n",
      "Posisi 126: Acipenser (A) -> Cercoptithecus aethiops (C)\n",
      "Posisi 127: Acipenser (G) -> Cercoptithecus aethiops (T)\n",
      "Posisi 128: Acipenser (T) -> Cercoptithecus aethiops (G)\n",
      "Posisi 129: Acipenser (T) -> Cercoptithecus aethiops (A)\n",
      "Posisi 130: Acipenser (C) -> Cercoptithecus aethiops (G)\n",
      "Posisi 131: Acipenser (A) -> Cercoptithecus aethiops (C)\n",
      "Posisi 132: Acipenser (A) -> Cercoptithecus aethiops (C)\n",
      "Posisi 133: Acipenser (G) -> Cercoptithecus aethiops (C)\n",
      "Posisi 134: Acipenser (A) -> Cercoptithecus aethiops (G)\n",
      "Posisi 135: Acipenser (A) -> Cercoptithecus aethiops (G)\n",
      "Posisi 136: Acipenser (G) -> Cercoptithecus aethiops (T)\n",
      "Posisi 137: Acipenser (C) -> Cercoptithecus aethiops (G)\n",
      "Posisi 138: Acipenser (A) -> Cercoptithecus aethiops (G)\n",
      "\n",
      "Hasil untuk Oryctolagus cuniculus:\n",
      "Mutasi:\n",
      "Posisi 2: Acipenser (G) -> Oryctolagus cuniculus (C)\n",
      "Posisi 3: Acipenser (A) -> Oryctolagus cuniculus (C)\n",
      "Posisi 4: Acipenser (G) -> Oryctolagus cuniculus (A)\n",
      "Posisi 5: Acipenser (A) -> Oryctolagus cuniculus (G)\n",
      "Posisi 6: Acipenser (A) -> Oryctolagus cuniculus (C)\n",
      "Posisi 7: Acipenser (G) -> Oryctolagus cuniculus (C)\n",
      "Posisi 8: Acipenser (T) -> Oryctolagus cuniculus (G)\n",
      "Posisi 9: Acipenser (T) -> Oryctolagus cuniculus (A)\n",
      "Posisi 12: Acipenser (A) -> Oryctolagus cuniculus (T)\n",
      "Posisi 13: Acipenser (A) -> Oryctolagus cuniculus (G)\n",
      "Posisi 15: Acipenser (C) -> Oryctolagus cuniculus (A)\n",
      "Posisi 16: Acipenser (C) -> Oryctolagus cuniculus (G)\n",
      "Posisi 17: Acipenser (T) -> Oryctolagus cuniculus (G)\n",
      "Posisi 18: Acipenser (A) -> Oryctolagus cuniculus (C)\n",
      "Posisi 19: Acipenser (C) -> Oryctolagus cuniculus (G)\n",
      "Posisi 21: Acipenser (C) -> Oryctolagus cuniculus (G)\n",
      "Posisi 22: Acipenser (C) -> Oryctolagus cuniculus (G)\n",
      "Posisi 23: Acipenser (G) -> Oryctolagus cuniculus (T)\n",
      "Posisi 24: Acipenser (G) -> Oryctolagus cuniculus (T)\n",
      "Posisi 25: Acipenser (A) -> Oryctolagus cuniculus (C)\n",
      "Posisi 26: Acipenser (A) -> Oryctolagus cuniculus (C)\n",
      "Posisi 27: Acipenser (A) -> Oryctolagus cuniculus (G)\n",
      "Posisi 28: Acipenser (T) -> Oryctolagus cuniculus (C)\n",
      "Posisi 30: Acipenser (T) -> Oryctolagus cuniculus (G)\n",
      "Posisi 31: Acipenser (C) -> Oryctolagus cuniculus (G)\n",
      "Posisi 34: Acipenser (A) -> Oryctolagus cuniculus (G)\n",
      "Posisi 35: Acipenser (G) -> Oryctolagus cuniculus (C)\n",
      "Posisi 36: Acipenser (A) -> Oryctolagus cuniculus (G)\n",
      "Posisi 37: Acipenser (G) -> Oryctolagus cuniculus (A)\n",
      "Posisi 38: Acipenser (T) -> Oryctolagus cuniculus (C)\n",
      "Posisi 39: Acipenser (C) -> Oryctolagus cuniculus (T)\n",
      "Posisi 40: Acipenser (C) -> Oryctolagus cuniculus (G)\n",
      "Posisi 44: Acipenser (C) -> Oryctolagus cuniculus (A)\n",
      "Posisi 46: Acipenser (G) -> Oryctolagus cuniculus (C)\n",
      "Posisi 47: Acipenser (C) -> Oryctolagus cuniculus (G)\n",
      "Posisi 48: Acipenser (A) -> Oryctolagus cuniculus (C)\n",
      "Posisi 49: Acipenser (G) -> Oryctolagus cuniculus (A)\n",
      "Posisi 50: Acipenser (A) -> Oryctolagus cuniculus (G)\n",
      "Posisi 51: Acipenser (A) -> Oryctolagus cuniculus (G)\n",
      "Posisi 52: Acipenser (G) -> Oryctolagus cuniculus (C)\n",
      "Posisi 53: Acipenser (C) -> Oryctolagus cuniculus (G)\n",
      "Posisi 54: Acipenser (T) -> Oryctolagus cuniculus (G)\n",
      "Posisi 56: Acipenser (G) -> Oryctolagus cuniculus (A)\n",
      "Posisi 57: Acipenser (G) -> Oryctolagus cuniculus (A)\n",
      "Posisi 58: Acipenser (C) -> Oryctolagus cuniculus (G)\n",
      "Posisi 60: Acipenser (G) -> Oryctolagus cuniculus (T)\n",
      "Posisi 61: Acipenser (C) -> Oryctolagus cuniculus (G)\n",
      "Posisi 62: Acipenser (T) -> Oryctolagus cuniculus (A)\n",
      "Posisi 63: Acipenser (T) -> Oryctolagus cuniculus (A)\n",
      "Posisi 65: Acipenser (C) -> Oryctolagus cuniculus (G)\n",
      "Posisi 66: Acipenser (A) -> Oryctolagus cuniculus (T)\n",
      "Posisi 68: Acipenser (C) -> Oryctolagus cuniculus (T)\n",
      "Posisi 69: Acipenser (A) -> Oryctolagus cuniculus (G)\n",
      "Posisi 71: Acipenser (A) -> Oryctolagus cuniculus (T)\n",
      "Posisi 72: Acipenser (T) -> Oryctolagus cuniculus (G)\n",
      "Posisi 73: Acipenser (C) -> Oryctolagus cuniculus (G)\n",
      "Posisi 74: Acipenser (T) -> Oryctolagus cuniculus (G)\n",
      "Posisi 75: Acipenser (T) -> Oryctolagus cuniculus (C)\n",
      "Posisi 76: Acipenser (C) -> Oryctolagus cuniculus (T)\n",
      "Posisi 77: Acipenser (T) -> Oryctolagus cuniculus (G)\n",
      "Posisi 80: Acipenser (G) -> Oryctolagus cuniculus (T)\n",
      "Posisi 81: Acipenser (A) -> Oryctolagus cuniculus (T)\n",
      "Posisi 83: Acipenser (A) -> Oryctolagus cuniculus (G)\n",
      "Posisi 84: Acipenser (G) -> Oryctolagus cuniculus (C)\n",
      "Posisi 85: Acipenser (T) -> Oryctolagus cuniculus (G)\n",
      "Posisi 88: Acipenser (C) -> Oryctolagus cuniculus (G)\n",
      "Posisi 90: Acipenser (G) -> Oryctolagus cuniculus (C)\n",
      "Posisi 93: Acipenser (G) -> Oryctolagus cuniculus (T)\n",
      "Posisi 94: Acipenser (T) -> Oryctolagus cuniculus (C)\n",
      "Posisi 97: Acipenser (C) -> Oryctolagus cuniculus (G)\n",
      "Posisi 98: Acipenser (C) -> Oryctolagus cuniculus (G)\n",
      "Posisi 99: Acipenser (A) -> Oryctolagus cuniculus (C)\n",
      "Posisi 102: Acipenser (A) -> Oryctolagus cuniculus (G)\n",
      "Posisi 103: Acipenser (G) -> Oryctolagus cuniculus (A)\n",
      "Posisi 104: Acipenser (C) -> Oryctolagus cuniculus (T)\n",
      "Posisi 105: Acipenser (A) -> Oryctolagus cuniculus (G)\n",
      "Posisi 107: Acipenser (T) -> Oryctolagus cuniculus (C)\n",
      "Posisi 108: Acipenser (T) -> Oryctolagus cuniculus (G)\n",
      "Posisi 109: Acipenser (C) -> Oryctolagus cuniculus (G)\n",
      "Posisi 110: Acipenser (A) -> Oryctolagus cuniculus (G)\n",
      "Posisi 111: Acipenser (A) -> Oryctolagus cuniculus (C)\n",
      "Posisi 113: Acipenser (A) -> Oryctolagus cuniculus (C)\n",
      "Posisi 114: Acipenser (G) -> Oryctolagus cuniculus (A)\n",
      "Posisi 115: Acipenser (T) -> Oryctolagus cuniculus (G)\n",
      "Posisi 117: Acipenser (A) -> Oryctolagus cuniculus (C)\n",
      "Posisi 120: Acipenser (C) -> Oryctolagus cuniculus (A)\n",
      "Posisi 121: Acipenser (A) -> Oryctolagus cuniculus (G)\n",
      "Posisi 122: Acipenser (G) -> Oryctolagus cuniculus (C)\n",
      "Posisi 128: Acipenser (T) -> Oryctolagus cuniculus (G)\n",
      "Posisi 130: Acipenser (C) -> Oryctolagus cuniculus (G)\n",
      "Posisi 131: Acipenser (A) -> Oryctolagus cuniculus (G)\n",
      "Posisi 134: Acipenser (A) -> Oryctolagus cuniculus (G)\n",
      "Posisi 135: Acipenser (A) -> Oryctolagus cuniculus (T)\n",
      "Posisi 138: Acipenser (A) -> Oryctolagus cuniculus (C)\n",
      "\n",
      "Hasil untuk Pan troglodytes:\n",
      "Mutasi:\n",
      "Posisi 2: Acipenser (G) -> Pan troglodytes (A)\n",
      "Posisi 3: Acipenser (A) -> Pan troglodytes (G)\n",
      "Posisi 4: Acipenser (G) -> Pan troglodytes (C)\n",
      "Posisi 5: Acipenser (A) -> Pan troglodytes (G)\n",
      "Posisi 6: Acipenser (A) -> Pan troglodytes (G)\n",
      "Posisi 7: Acipenser (G) -> Pan troglodytes (A)\n",
      "Posisi 8: Acipenser (T) -> Pan troglodytes (G)\n",
      "Posisi 9: Acipenser (T) -> Pan troglodytes (G)\n",
      "Posisi 10: Acipenser (G) -> Pan troglodytes (T)\n",
      "Posisi 14: Acipenser (C) -> Pan troglodytes (G)\n",
      "Posisi 15: Acipenser (C) -> Pan troglodytes (G)\n",
      "Posisi 16: Acipenser (C) -> Pan troglodytes (A)\n",
      "Posisi 17: Acipenser (T) -> Pan troglodytes (C)\n",
      "Posisi 18: Acipenser (A) -> Pan troglodytes (G)\n",
      "Posisi 19: Acipenser (C) -> Pan troglodytes (T)\n",
      "Posisi 20: Acipenser (A) -> Pan troglodytes (C)\n",
      "Posisi 22: Acipenser (C) -> Pan troglodytes (T)\n",
      "Posisi 23: Acipenser (G) -> Pan troglodytes (T)\n",
      "Posisi 24: Acipenser (G) -> Pan troglodytes (C)\n",
      "Posisi 25: Acipenser (A) -> Pan troglodytes (C)\n",
      "Posisi 26: Acipenser (A) -> Pan troglodytes (C)\n",
      "Posisi 27: Acipenser (A) -> Pan troglodytes (C)\n",
      "Posisi 28: Acipenser (T) -> Pan troglodytes (A)\n",
      "Posisi 29: Acipenser (A) -> Pan troglodytes (G)\n",
      "Posisi 30: Acipenser (T) -> Pan troglodytes (G)\n",
      "Posisi 31: Acipenser (C) -> Pan troglodytes (A)\n",
      "Posisi 32: Acipenser (A) -> Pan troglodytes (G)\n",
      "Posisi 33: Acipenser (G) -> Pan troglodytes (C)\n",
      "Posisi 34: Acipenser (A) -> Pan troglodytes (C)\n",
      "Posisi 37: Acipenser (G) -> Pan troglodytes (C)\n",
      "Posisi 39: Acipenser (C) -> Pan troglodytes (G)\n",
      "Posisi 40: Acipenser (C) -> Pan troglodytes (G)\n",
      "Posisi 41: Acipenser (A) -> Pan troglodytes (C)\n",
      "Posisi 43: Acipenser (C) -> Pan troglodytes (A)\n",
      "Posisi 44: Acipenser (C) -> Pan troglodytes (A)\n",
      "Posisi 45: Acipenser (A) -> Pan troglodytes (T)\n",
      "Posisi 46: Acipenser (G) -> Pan troglodytes (C)\n",
      "Posisi 47: Acipenser (C) -> Pan troglodytes (A)\n",
      "Posisi 48: Acipenser (A) -> Pan troglodytes (C)\n",
      "Posisi 49: Acipenser (G) -> Pan troglodytes (A)\n",
      "Posisi 50: Acipenser (A) -> Pan troglodytes (G)\n",
      "Posisi 51: Acipenser (A) -> Pan troglodytes (G)\n",
      "Posisi 52: Acipenser (G) -> Pan troglodytes (C)\n",
      "Posisi 53: Acipenser (C) -> Pan troglodytes (A)\n",
      "Posisi 54: Acipenser (T) -> Pan troglodytes (G)\n",
      "Posisi 56: Acipenser (G) -> Pan troglodytes (A)\n",
      "Posisi 57: Acipenser (G) -> Pan troglodytes (A)\n",
      "Posisi 58: Acipenser (C) -> Pan troglodytes (G)\n",
      "Posisi 60: Acipenser (G) -> Pan troglodytes (T)\n",
      "Posisi 61: Acipenser (C) -> Pan troglodytes (G)\n",
      "Posisi 62: Acipenser (T) -> Pan troglodytes (A)\n",
      "Posisi 63: Acipenser (T) -> Pan troglodytes (A)\n",
      "Posisi 65: Acipenser (C) -> Pan troglodytes (G)\n",
      "Posisi 66: Acipenser (A) -> Pan troglodytes (T)\n",
      "Posisi 67: Acipenser (G) -> Pan troglodytes (T)\n",
      "Posisi 69: Acipenser (A) -> Pan troglodytes (T)\n",
      "Posisi 71: Acipenser (A) -> Pan troglodytes (T)\n",
      "Posisi 72: Acipenser (T) -> Pan troglodytes (G)\n",
      "Posisi 73: Acipenser (C) -> Pan troglodytes (G)\n",
      "Posisi 74: Acipenser (T) -> Pan troglodytes (G)\n",
      "Posisi 75: Acipenser (T) -> Pan troglodytes (C)\n",
      "Posisi 76: Acipenser (C) -> Pan troglodytes (T)\n",
      "Posisi 77: Acipenser (T) -> Pan troglodytes (G)\n",
      "Posisi 78: Acipenser (T) -> Pan troglodytes (C)\n",
      "Posisi 80: Acipenser (G) -> Pan troglodytes (T)\n",
      "Posisi 81: Acipenser (A) -> Pan troglodytes (T)\n",
      "Posisi 83: Acipenser (A) -> Pan troglodytes (C)\n",
      "Posisi 84: Acipenser (G) -> Pan troglodytes (T)\n",
      "Posisi 85: Acipenser (T) -> Pan troglodytes (G)\n",
      "Posisi 87: Acipenser (C) -> Pan troglodytes (T)\n",
      "Posisi 89: Acipenser (G) -> Pan troglodytes (A)\n",
      "Posisi 90: Acipenser (G) -> Pan troglodytes (C)\n",
      "Posisi 91: Acipenser (G) -> Pan troglodytes (A)\n",
      "Posisi 92: Acipenser (A) -> Pan troglodytes (T)\n",
      "Posisi 93: Acipenser (G) -> Pan troglodytes (T)\n",
      "Posisi 94: Acipenser (T) -> Pan troglodytes (C)\n",
      "Posisi 97: Acipenser (C) -> Pan troglodytes (G)\n",
      "Posisi 98: Acipenser (C) -> Pan troglodytes (G)\n",
      "Posisi 99: Acipenser (A) -> Pan troglodytes (C)\n",
      "Posisi 102: Acipenser (A) -> Pan troglodytes (G)\n",
      "Posisi 103: Acipenser (G) -> Pan troglodytes (A)\n",
      "Posisi 104: Acipenser (C) -> Pan troglodytes (T)\n",
      "Posisi 105: Acipenser (A) -> Pan troglodytes (G)\n",
      "Posisi 107: Acipenser (T) -> Pan troglodytes (C)\n",
      "Posisi 108: Acipenser (T) -> Pan troglodytes (A)\n",
      "Posisi 109: Acipenser (C) -> Pan troglodytes (G)\n",
      "Posisi 110: Acipenser (A) -> Pan troglodytes (G)\n",
      "Posisi 111: Acipenser (A) -> Pan troglodytes (C)\n",
      "Posisi 114: Acipenser (G) -> Pan troglodytes (A)\n",
      "Posisi 115: Acipenser (T) -> Pan troglodytes (G)\n",
      "Posisi 116: Acipenser (A) -> Pan troglodytes (G)\n",
      "Posisi 117: Acipenser (A) -> Pan troglodytes (T)\n",
      "Posisi 120: Acipenser (C) -> Pan troglodytes (A)\n",
      "Posisi 121: Acipenser (A) -> Pan troglodytes (G)\n",
      "Posisi 122: Acipenser (G) -> Pan troglodytes (C)\n",
      "Posisi 124: Acipenser (G) -> Pan troglodytes (A)\n",
      "Posisi 126: Acipenser (A) -> Pan troglodytes (T)\n",
      "Posisi 128: Acipenser (T) -> Pan troglodytes (G)\n",
      "Posisi 130: Acipenser (C) -> Pan troglodytes (G)\n",
      "Posisi 131: Acipenser (A) -> Pan troglodytes (G)\n",
      "Posisi 135: Acipenser (A) -> Pan troglodytes (C)\n",
      "Posisi 136: Acipenser (G) -> Pan troglodytes (A)\n",
      "Posisi 137: Acipenser (C) -> Pan troglodytes (G)\n",
      "\n",
      "Hasil untuk Siniperca chuatsi:\n",
      "Mutasi:\n",
      "Posisi 1: Acipenser (C) -> Siniperca chuatsi (A)\n",
      "Posisi 2: Acipenser (G) -> Siniperca chuatsi (T)\n",
      "Posisi 3: Acipenser (A) -> Siniperca chuatsi (G)\n",
      "Posisi 4: Acipenser (G) -> Siniperca chuatsi (A)\n",
      "Posisi 6: Acipenser (A) -> Siniperca chuatsi (G)\n",
      "Posisi 7: Acipenser (G) -> Siniperca chuatsi (A)\n",
      "Posisi 9: Acipenser (T) -> Siniperca chuatsi (C)\n",
      "Posisi 10: Acipenser (G) -> Siniperca chuatsi (T)\n",
      "Posisi 11: Acipenser (G) -> Siniperca chuatsi (T)\n",
      "Posisi 12: Acipenser (A) -> Siniperca chuatsi (T)\n",
      "Posisi 13: Acipenser (A) -> Siniperca chuatsi (G)\n",
      "Posisi 15: Acipenser (C) -> Siniperca chuatsi (A)\n",
      "Posisi 16: Acipenser (C) -> Siniperca chuatsi (G)\n",
      "Posisi 19: Acipenser (C) -> Siniperca chuatsi (A)\n",
      "Posisi 20: Acipenser (A) -> Siniperca chuatsi (T)\n",
      "Posisi 23: Acipenser (G) -> Siniperca chuatsi (T)\n",
      "Posisi 24: Acipenser (G) -> Siniperca chuatsi (T)\n",
      "Posisi 25: Acipenser (A) -> Siniperca chuatsi (G)\n",
      "Posisi 26: Acipenser (A) -> Siniperca chuatsi (T)\n",
      "Posisi 27: Acipenser (A) -> Siniperca chuatsi (G)\n",
      "Posisi 28: Acipenser (T) -> Siniperca chuatsi (C)\n",
      "Posisi 29: Acipenser (A) -> Siniperca chuatsi (T)\n",
      "Posisi 30: Acipenser (T) -> Siniperca chuatsi (G)\n",
      "Posisi 31: Acipenser (C) -> Siniperca chuatsi (G)\n",
      "Posisi 32: Acipenser (A) -> Siniperca chuatsi (C)\n",
      "Posisi 33: Acipenser (G) -> Siniperca chuatsi (T)\n",
      "Posisi 34: Acipenser (A) -> Siniperca chuatsi (G)\n",
      "Posisi 35: Acipenser (G) -> Siniperca chuatsi (T)\n",
      "Posisi 36: Acipenser (A) -> Siniperca chuatsi (C)\n",
      "Posisi 37: Acipenser (G) -> Siniperca chuatsi (C)\n",
      "Posisi 40: Acipenser (C) -> Siniperca chuatsi (T)\n",
      "Posisi 41: Acipenser (A) -> Siniperca chuatsi (C)\n",
      "Posisi 42: Acipenser (C) -> Siniperca chuatsi (A)\n",
      "Posisi 43: Acipenser (C) -> Siniperca chuatsi (G)\n",
      "Posisi 44: Acipenser (C) -> Siniperca chuatsi (G)\n",
      "Posisi 45: Acipenser (A) -> Siniperca chuatsi (C)\n",
      "Posisi 46: Acipenser (G) -> Siniperca chuatsi (T)\n",
      "Posisi 47: Acipenser (C) -> Siniperca chuatsi (G)\n",
      "Posisi 48: Acipenser (A) -> Siniperca chuatsi (C)\n",
      "Posisi 49: Acipenser (G) -> Siniperca chuatsi (C)\n",
      "Posisi 51: Acipenser (A) -> Siniperca chuatsi (T)\n",
      "Posisi 54: Acipenser (T) -> Siniperca chuatsi (A)\n",
      "Posisi 55: Acipenser (G) -> Siniperca chuatsi (A)\n",
      "Posisi 57: Acipenser (G) -> Siniperca chuatsi (A)\n",
      "Posisi 58: Acipenser (C) -> Siniperca chuatsi (A)\n",
      "Posisi 59: Acipenser (A) -> Siniperca chuatsi (G)\n",
      "Posisi 60: Acipenser (G) -> Siniperca chuatsi (T)\n",
      "Posisi 61: Acipenser (C) -> Siniperca chuatsi (G)\n",
      "Posisi 63: Acipenser (T) -> Siniperca chuatsi (G)\n",
      "Posisi 64: Acipenser (G) -> Siniperca chuatsi (T)\n",
      "Posisi 66: Acipenser (A) -> Siniperca chuatsi (T)\n",
      "Posisi 67: Acipenser (G) -> Siniperca chuatsi (C)\n",
      "Posisi 68: Acipenser (C) -> Siniperca chuatsi (A)\n",
      "Posisi 69: Acipenser (A) -> Siniperca chuatsi (G)\n",
      "Posisi 73: Acipenser (C) -> Siniperca chuatsi (G)\n",
      "Posisi 74: Acipenser (T) -> Siniperca chuatsi (A)\n",
      "Posisi 75: Acipenser (T) -> Siniperca chuatsi (G)\n",
      "Posisi 76: Acipenser (C) -> Siniperca chuatsi (G)\n",
      "Posisi 77: Acipenser (T) -> Siniperca chuatsi (A)\n",
      "Posisi 78: Acipenser (T) -> Siniperca chuatsi (G)\n",
      "Posisi 79: Acipenser (G) -> Siniperca chuatsi (A)\n",
      "Posisi 80: Acipenser (G) -> Siniperca chuatsi (A)\n",
      "Posisi 81: Acipenser (A) -> Siniperca chuatsi (G)\n",
      "Posisi 82: Acipenser (G) -> Siniperca chuatsi (A)\n",
      "Posisi 83: Acipenser (A) -> Siniperca chuatsi (G)\n",
      "Posisi 84: Acipenser (G) -> Siniperca chuatsi (C)\n",
      "Posisi 86: Acipenser (G) -> Siniperca chuatsi (C)\n",
      "Posisi 88: Acipenser (C) -> Siniperca chuatsi (T)\n",
      "Posisi 94: Acipenser (T) -> Siniperca chuatsi (G)\n",
      "Posisi 95: Acipenser (C) -> Siniperca chuatsi (T)\n",
      "Posisi 96: Acipenser (T) -> Siniperca chuatsi (C)\n",
      "Posisi 97: Acipenser (C) -> Siniperca chuatsi (A)\n",
      "Posisi 100: Acipenser (A) -> Siniperca chuatsi (G)\n",
      "Posisi 101: Acipenser (G) -> Siniperca chuatsi (T)\n",
      "Posisi 102: Acipenser (A) -> Siniperca chuatsi (C)\n",
      "Posisi 104: Acipenser (C) -> Siniperca chuatsi (A)\n",
      "Posisi 105: Acipenser (A) -> Siniperca chuatsi (C)\n",
      "Posisi 106: Acipenser (C) -> Siniperca chuatsi (A)\n",
      "Posisi 107: Acipenser (T) -> Siniperca chuatsi (A)\n",
      "Posisi 108: Acipenser (T) -> Siniperca chuatsi (A)\n",
      "Posisi 109: Acipenser (C) -> Siniperca chuatsi (T)\n",
      "Posisi 110: Acipenser (A) -> Siniperca chuatsi (T)\n",
      "Posisi 111: Acipenser (A) -> Siniperca chuatsi (T)\n",
      "Posisi 112: Acipenser (C) -> Siniperca chuatsi (A)\n",
      "Posisi 115: Acipenser (T) -> Siniperca chuatsi (G)\n",
      "Posisi 117: Acipenser (A) -> Siniperca chuatsi (T)\n",
      "Posisi 118: Acipenser (G) -> Siniperca chuatsi (T)\n",
      "Posisi 119: Acipenser (G) -> Siniperca chuatsi (A)\n",
      "Posisi 120: Acipenser (C) -> Siniperca chuatsi (T)\n",
      "Posisi 121: Acipenser (A) -> Siniperca chuatsi (T)\n",
      "Posisi 122: Acipenser (G) -> Siniperca chuatsi (T)\n",
      "Posisi 123: Acipenser (A) -> Siniperca chuatsi (C)\n",
      "Posisi 124: Acipenser (G) -> Siniperca chuatsi (A)\n",
      "Posisi 125: Acipenser (G) -> Siniperca chuatsi (C)\n",
      "Posisi 128: Acipenser (T) -> Siniperca chuatsi (A)\n",
      "Posisi 131: Acipenser (A) -> Siniperca chuatsi (T)\n",
      "Posisi 132: Acipenser (A) -> Siniperca chuatsi (G)\n",
      "Posisi 133: Acipenser (G) -> Siniperca chuatsi (A)\n",
      "Posisi 135: Acipenser (A) -> Siniperca chuatsi (C)\n",
      "Posisi 136: Acipenser (G) -> Siniperca chuatsi (T)\n",
      "Posisi 137: Acipenser (C) -> Siniperca chuatsi (T)\n",
      "Posisi 138: Acipenser (A) -> Siniperca chuatsi (G)\n"
     ]
    }
   ],
   "source": [
    "#menampilkan hasil mutasi\n",
    "results_mutation = mutations(align, seqapoeAcipenser)\n",
    "\n",
    "# Tampilkan hasil perspecies\n",
    "for species, data in results_mutation.items():\n",
    "    print(f\"\\nHasil untuk {species}:\")\n",
    "    \n",
    "    print(\"Mutasi:\")\n",
    "    for pos, acipenser_res, other_res in data['mutations']:\n",
    "        print(f\"Posisi {pos}: Acipenser ({acipenser_res}) -> {species} ({other_res})\")"
   ]
  },
  {
   "cell_type": "code",
   "execution_count": 28,
   "metadata": {},
   "outputs": [
    {
     "name": "stdout",
     "output_type": "stream",
     "text": [
      "\n",
      "Hasil untuk Bos Taurus:\n",
      "CxxGAxGxxxxxxxCxxxxxxxxxxxAxxxxAxxxAxxCxxxxxxxCAxxxGCxxGxCAGxxxxxxxxxGxTCTxxxxGxxGxxxxxxxGGxxxCxCxxxxxGCAxxxxxxCAGxxxGxxAxxGxxGxxxAxxxxGxx\n",
      "\n",
      "Hasil untuk Cercoptithecus aethiops:\n",
      "xxxxAxxxxxGxxCxxxxCxxCGxxxxxxxCxGxGxGxxCACCCxxCxGxxxxTxxGxxxxxxGxAxxxxxxxxxxxxxGAxxxTGxxGGxxxTxxxxxxxxxCAxxTCxxxAxTxxxGxAxxxGxxxxxxxxxxxxx\n",
      "\n",
      "Hasil untuk Oryctolagus cuniculus:\n",
      "CxxxxxxxxGGxxCxxxxxAxxxxxxxxAxxAGxxxxxxxACCxAxxxxxxxxxGxxxAxxxxGxxGxxGxxxxxxxTGxxGxxxGCxGxGAxxCTxxxAGxxxxCxxxxxCxxxAxGGxxxAGGAGxTxxAGxxGCx\n",
      "\n",
      "Hasil untuk Pan troglodytes:\n",
      "CxxxxxxxxxGAAxxxxxxxCxxxxxxxxxxxxxGAxTxxxCxxxxxxxxxxxxGxxxAxxxxGxxxCxGxxxxxxxxGxxGxxxGxCxxxxxxCTxxxAGxxxxCxxxxxCAxxxxGGxxxAxGxGxTxxAGAxxxA\n",
      "\n",
      "Hasil untuk Siniperca chuatsi:\n",
      "xxxxAxxTxxxxxCxxTAxxCCxxxxxxxxxxxxxxxTCxxxxxxxxxxAxGCxxGxxxxxTxxCxxxxGATxxxxxxxxxxxxTxCxGGGAGxxxxCAxxxGxxxxxxxxxAGxAxxxxxxxxxAGxTCxxxAxxxx\n"
     ]
    }
   ],
   "source": [
    "# Lakukan perbandingan\n",
    "results_conserve = conserved(align, seqapoeAcipenser)\n",
    "\n",
    "# Tampilkan hasil\n",
    "for species, comparison in results_conserve.items():\n",
    "    print(f\"\\nHasil untuk {species}:\")\n",
    "    print(comparison)"
   ]
  },
  {
   "cell_type": "code",
   "execution_count": 29,
   "metadata": {},
   "outputs": [],
   "source": [
    "# sequence yang akan dijadikan sebagai target\n",
    "# sequence dijakian string untuk mempermudah proses\n",
    "# alasan memotong sequence untuk memperceepat pemodelan :)\n",
    "sequences = [\n",
    "    str(apoeAcipenser[0].seq[:138]),\n",
    "    str(apoeBos[0].seq[:138]),\n",
    "    str(apoeCercopithecus[0].seq[:138]),\n",
    "    str(apoeOryctolagus[0].seq[:138]),\n",
    "    str(apoePan[0].seq[:138]),\n",
    "    str(apoeSiniperca[0].seq[:138])\n",
    "]"
   ]
  },
  {
   "cell_type": "code",
   "execution_count": 30,
   "metadata": {},
   "outputs": [],
   "source": [
    "#fungsi untuk menghitung skor alignment\n",
    "#berguna untuk kperhitungan optimisasi\n",
    "def alignment_score(params):\n",
    "    gap_open_penalty, gap_extend_penalty = params\n",
    "    if gap_open_penalty < gap_extend_penalty:\n",
    "        return np.inf  # invalid parameter combination\n",
    "    total_score = 0\n",
    "    num_alignments = 0\n",
    "    for i in range(len(sequences)):\n",
    "        for j in range(i + 1, len(sequences)):\n",
    "            alignments = pairwise2.align.globalxs(sequences[i], sequences[j], -gap_open_penalty, -gap_extend_penalty)\n",
    "            total_score += alignments[0].score  # Add the score of the best alignment\n",
    "            num_alignments += 1\n",
    "    average_score = total_score / num_alignments\n",
    "    return -average_score  # Negative because differential_evolution minimizes the function"
   ]
  },
  {
   "cell_type": "code",
   "execution_count": 31,
   "metadata": {},
   "outputs": [],
   "source": [
    "# menentukan nilai batas untuk gap open dan gap extend\n",
    "bounds = [(0.1, 10.0), (0.1, 10.0)]\n",
    "\n",
    "# melakukan pergitungan optimisasi\n",
    "result = differential_evolution(alignment_score, bounds)\n",
    "\n",
    "#mendapatkan hasil optimisasi untuk gap open dan gap extend\n",
    "best_gap_open_penalty, best_gap_extend_penalty = result.x"
   ]
  },
  {
   "cell_type": "code",
   "execution_count": 32,
   "metadata": {},
   "outputs": [
    {
     "name": "stdout",
     "output_type": "stream",
     "text": [
      "Best gap open penalty: 0.1\n",
      "Best gap extend penalty: 0.1\n"
     ]
    }
   ],
   "source": [
    "#menampilkan hasil optimisasi untuk gap open dan gap extend`\n",
    "print(f\"Best gap open penalty: {best_gap_open_penalty}\")\n",
    "print(f\"Best gap extend penalty: {best_gap_extend_penalty}\")"
   ]
  },
  {
   "cell_type": "code",
   "execution_count": 33,
   "metadata": {},
   "outputs": [
    {
     "name": "stdout",
     "output_type": "stream",
     "text": [
      "C-GAGAAGTTG-GAACCCTACACCGGAAATATCAGAGAGTCCACCCAGCAGAAGCTG--GGC-A---GCTTGC-AGCAGATC----TTCT-TGGAGAGTGCCGGGAGTC-TCCAAGAGCACTTCAA-CAGTAAGGCAGA-GGAGT-TCAAG--A-AGCA----\n",
      "| | | ||  | |||  ..|| .|||   |.||.| |||.|.|   || | |.||.|  ||| |   ||..|| ||.||||.    |||| ||| | .|||||.| ||. | |    ||.||||.. |||.|.|.|||. ||| | |..||  | |||.    \n",
      "CCG-G-AG--GCGAA--GGAC-GCGG---TTTCTG-GAGGCGA---AG-A-ACGCGGTTGGCCAATCGCAAGCCAGAAGATGAAGGTTCTGTGG-G-TTGCCGTG-GTGGT-C----GCGCTTCTGGCAGGATGCCAGGCGGA-TATGGAGGGAGAGCTGGGG\n",
      "  Score=82\n",
      "\n"
     ]
    }
   ],
   "source": [
    "# mencetak hasil alignment terbaik\n",
    "best_alignments = pairwise2.align.globalxs(sequences[0], sequences[1], -best_gap_open_penalty, -best_gap_extend_penalty)\n",
    "print(format_alignment(*best_alignments[0]))"
   ]
  },
  {
   "cell_type": "code",
   "execution_count": 34,
   "metadata": {},
   "outputs": [
    {
     "name": "stdout",
     "output_type": "stream",
     "text": [
      "First line of the best alignment:\n",
      "C-GAGAAGTTG-GAACCCTACACCGGAAATATCAGAGAGTCCACCCAGCAGAAGCTG--GGC-A---GCTTGC-AGCAGATC----TTCT-TGGAGAGTGCCGGGAGTC-TCCAAGAGCACTTCAA-CAGTAAGGCAGA-GGAGT-TCAAG--A-AGCA----\n"
     ]
    }
   ],
   "source": [
    "# mencetak hasil alignment terbaik\n",
    "# ini adalah garis pertama dari alignment terbaik dari semua species terhadap Acipenser\n",
    "first_alignment_line = format_alignment(*best_alignments[0]).split('\\n')[0]\n",
    "print(\"First line of the best alignment:\")\n",
    "print(first_alignment_line)"
   ]
  },
  {
   "cell_type": "markdown",
   "metadata": {},
   "source": [
    "Nomor 5"
   ]
  },
  {
   "cell_type": "code",
   "execution_count": 35,
   "metadata": {},
   "outputs": [],
   "source": [
    "#potong sequence dengan panjang paling APOE paling pendek\n",
    "#hal ini dilakukan agar dapat dilakukan multiple sequence alignment\n",
    "seqapoeAcipenser = apoeAcipenser[0].seq[:138]\n",
    "seqapoeBos = apoeBos[0].seq[:138]\n",
    "seqapoECercopithecus = apoeCercopithecus[0].seq[:138]\n",
    "seqapoeOryctolagus= apoeOryctolagus[0].seq[:138]\n",
    "seqapoePan = apoePan[0].seq[:138]\n",
    "seqapoESiniperca = apoeSiniperca[0].seq[:138]\n"
   ]
  },
  {
   "cell_type": "code",
   "execution_count": 36,
   "metadata": {},
   "outputs": [],
   "source": [
    "#membuat multiple sequence alignment\n",
    "sequences = [\n",
    "    SeqRecord(seqapoeAcipenser,id = 'Acipenser'),\n",
    "    SeqRecord(seqapoeBos,id = 'Bos Taurus'),\n",
    "    SeqRecord(seqapoECercopithecus,id = 'Cercoptithecus'),\n",
    "    SeqRecord(seqapoeOryctolagus,id = 'Oryctolagus'),\n",
    "    SeqRecord(seqapoePan,id = 'Pan troglodytes'),\n",
    "    SeqRecord(seqapoESiniperca,id = 'Siniperca')  \n",
    "]"
   ]
  },
  {
   "cell_type": "code",
   "execution_count": 37,
   "metadata": {},
   "outputs": [],
   "source": [
    "# Membuat fungsi hamming distance\n",
    "def hamming_distance(seq1, seq2):\n",
    "    return sum(c1 != c2 for c1, c2 in zip(seq1, seq2))"
   ]
  },
  {
   "cell_type": "code",
   "execution_count": 38,
   "metadata": {},
   "outputs": [],
   "source": [
    "#membuat matriks hamming distance\n",
    "num_sequences = len(sequences)\n",
    "hamming_matrix = np.zeros((num_sequences, num_sequences), dtype=int)"
   ]
  },
  {
   "cell_type": "code",
   "execution_count": 39,
   "metadata": {},
   "outputs": [],
   "source": [
    "#mengisi matriks hamming distance\n",
    "for i in range(num_sequences):\n",
    "    for j in range(num_sequences):\n",
    "        hamming_matrix[i, j] = hamming_distance(sequences[i].seq, sequences[j].seq)"
   ]
  },
  {
   "cell_type": "code",
   "execution_count": 40,
   "metadata": {},
   "outputs": [],
   "source": [
    "# Mengonversi matriks menjadi DataFrame agar lebih rapi\n",
    "sequence_ids = [seq.id for seq in sequences]\n",
    "hamming_df = pd.DataFrame(hamming_matrix, index=sequence_ids, columns=sequence_ids)\n",
    "# Menggunakan tabulate untuk mem print DataFrame dalam format tabel\n",
    "table = tabulate(hamming_df, headers='keys', tablefmt='grid')"
   ]
  },
  {
   "cell_type": "code",
   "execution_count": 41,
   "metadata": {},
   "outputs": [
    {
     "name": "stdout",
     "output_type": "stream",
     "text": [
      "Matriks Hamming Distance:\n",
      "+-----------------+-------------+--------------+------------------+---------------+-------------------+-------------+\n",
      "|                 |   Acipenser |   Bos Taurus |   Cercoptithecus |   Oryctolagus |   Pan troglodytes |   Siniperca |\n",
      "+=================+=============+==============+==================+===============+===================+=============+\n",
      "| Acipenser       |           0 |           99 |              101 |            94 |               103 |         102 |\n",
      "+-----------------+-------------+--------------+------------------+---------------+-------------------+-------------+\n",
      "| Bos Taurus      |          99 |            0 |              111 |            99 |                99 |          96 |\n",
      "+-----------------+-------------+--------------+------------------+---------------+-------------------+-------------+\n",
      "| Cercoptithecus  |         101 |          111 |                0 |           105 |               103 |         111 |\n",
      "+-----------------+-------------+--------------+------------------+---------------+-------------------+-------------+\n",
      "| Oryctolagus     |          94 |           99 |              105 |             0 |                58 |         105 |\n",
      "+-----------------+-------------+--------------+------------------+---------------+-------------------+-------------+\n",
      "| Pan troglodytes |         103 |           99 |              103 |            58 |                 0 |         112 |\n",
      "+-----------------+-------------+--------------+------------------+---------------+-------------------+-------------+\n",
      "| Siniperca       |         102 |           96 |              111 |           105 |               112 |           0 |\n",
      "+-----------------+-------------+--------------+------------------+---------------+-------------------+-------------+\n"
     ]
    }
   ],
   "source": [
    "# Mencetak matriks Hamming distance\n",
    "print(\"Matriks Hamming Distance:\")\n",
    "print(table)"
   ]
  },
  {
   "cell_type": "code",
   "execution_count": 42,
   "metadata": {},
   "outputs": [],
   "source": [
    "# Buat dendrogram\n",
    "align = MultipleSeqAlignment(sequences)\n",
    "calculator = DistanceCalculator('identity')\n",
    "dm = calculator.get_distance(align)\n"
   ]
  },
  {
   "cell_type": "code",
   "execution_count": 43,
   "metadata": {},
   "outputs": [
    {
     "name": "stderr",
     "output_type": "stream",
     "text": [
      "/var/folders/yf/pwm2z7cs7m39fl6g70nggc0r0000gn/T/ipykernel_4572/2596667190.py:9: ClusterWarning: The symmetric non-negative hollow observation matrix looks suspiciously like an uncondensed distance matrix\n",
      "  linkage_matrix = linkage(dm_matrix, method='average')\n"
     ]
    },
    {
     "data": {
      "image/png": "[encoded data removed]",
      "text/plain": [
       "<Figure size 1000x500 with 1 Axes>"
      ]
     },
     "metadata": {},
     "output_type": "display_data"
    }
   ],
   "source": [
    "\n",
    "# Membuat matriks Hamming\n",
    "num_sequences = len(sequences)\n",
    "hamming_matrix = np.zeros((num_sequences, num_sequences), dtype=int)\n",
    "sequence_ids = [seq.id for seq in sequences]\n",
    "hamming_df = pd.DataFrame(hamming_matrix, index=sequence_ids, columns=sequence_ids)\n",
    "\n",
    "# Menghitung matriks jarak\n",
    "dm_matrix = np.array(dm)\n",
    "linkage_matrix = linkage(dm_matrix, method='average')\n",
    "\n",
    "# Membuat plot dendrogram\n",
    "fig, ax = plt.subplots(figsize=(10, 5))\n",
    "dendrogram(linkage_matrix, labels=sequence_ids, orientation='right', ax=ax)\n",
    "\n",
    "# Menyesuaikan plot\n",
    "plt.xlabel('Jarak')\n",
    "plt.ylabel('DNA sequence')\n",
    "plt.show()\n"
   ]
  }
 ],
 "metadata": {
  "language_info": {
   "name": "python"
  }
 },
 "nbformat": 4,
 "nbformat_minor": 2
}
