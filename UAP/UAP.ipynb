{
 "cells": [
  {
   "cell_type": "markdown",
   "metadata": {},
   "source": [
    "Berikut adalah hal / kode umum yang digunakan untuk setiap nomor"
   ]
  },
  {
   "cell_type": "code",
   "execution_count": null,
   "metadata": {},
   "outputs": [],
   "source": [
    "#library\n",
    "from Bio import Entrez, SeqIO , pairwise2\n",
    "from Bio.Seq import Seq\n",
    "import matplotlib.pyplot as plt\n",
    "import numpy as np\n",
    "from Bio.pairwise2 import format_alignment\n",
    "from scipy.optimize import differential_evolution\n",
    "from Bio.SeqRecord import SeqRecord\n",
    "from Bio.Align import MultipleSeqAlignment\n",
    "from Bio.Phylo.TreeConstruction import DistanceCalculator\n",
    "import pandas as pd\n",
    "from scipy.cluster.hierarchy import dendrogram, linkage\n",
    "import matplotlib.pyplot as plt\n",
    "from tabulate import tabulate\n",
    "\n",
    "#email\n",
    "Entrez.email = 'learnbiopython@gmail.com'\n",
    "\n",
    "#pembacaan file fasta\n",
    "apoeAcipenser = list(SeqIO.parse(\"APOE-Acipenser.fasta\", \"fasta\"))\n",
    "apoeChristchurch = list(SeqIO.parse(\"APOE-Christchurch.fasta\", \"fasta\")) \n",
    "apoeBos = list(SeqIO.parse(\"APOE-Bos.fasta\", \"fasta\"))\n",
    "apoeCercopithecus = list(SeqIO.parse(\"APOE-Cercopithecus.fasta\", \"fasta\"))\n",
    "apoeOryctolagus = list(SeqIO.parse(\"APOE-Oryctolagus.fasta\", \"fasta\"))\n",
    "apoePan = list(SeqIO.parse(\"APOE-Pan.fasta\", \"fasta\"))\n",
    "apoeSiniperca = list(SeqIO.parse(\"APOE-Siniperca.fasta\", \"fasta\"))"
   ]
  },
  {
   "cell_type": "markdown",
   "metadata": {},
   "source": [
    "Nomor 1"
   ]
  },
  {
   "cell_type": "code",
   "execution_count": null,
   "metadata": {},
   "outputs": [],
   "source": [
    "#baca file fasta dan ambil ID\n",
    "seqApoeID = apoeAcipenser[0].id"
   ]
  },
  {
   "cell_type": "code",
   "execution_count": null,
   "metadata": {},
   "outputs": [],
   "source": [
    "#definisikan fungsi untuk mengambil record dari database\n",
    "def fetch_record(accession):\n",
    "    handle = Entrez.efetch(db=\"nucleotide\", id=accession, rettype=\"gb\", retmode=\"text\")\n",
    "    record = SeqIO.read(handle, \"genbank\")\n",
    "    handle.close()\n",
    "    return record\n"
   ]
  },
  {
   "cell_type": "code",
   "execution_count": null,
   "metadata": {},
   "outputs": [],
   "source": [
    "#panggil fungsi fetch_record dan simpan ke dalam variabel record\n",
    "record = fetch_record(seqApoeID)"
   ]
  },
  {
   "cell_type": "code",
   "execution_count": null,
   "metadata": {},
   "outputs": [],
   "source": [
    "# Ambil fitur gen dan CDS\n",
    "gene_feature = next((feature for feature in record.features if feature.type == \"gene\"), None)\n",
    "cds_feature = next((feature for feature in record.features if feature.type == \"CDS\"), None)\n",
    "\n",
    "print(apoeAcipenser[0])\n",
    "\n",
    "# Print informasi yang diinginkan\n",
    "print(f'Species : {record.annotations[\"organism\"]}')\n",
    "\n",
    "print(f'Location : {record.features[0].location}')\n",
    "print(f'Taxon : {\", \".join(record.annotations[\"taxonomy\"])}')\n",
    "print(f'Taxon ID : {\", \".join(record.features[0].qualifiers[\"db_xref\"])}')\n",
    "print(f'Molecule Type : {record.annotations[\"molecule_type\"]}')\n",
    "\n",
    "if gene_feature:\n",
    "    print(f\"Gene: {gene_feature.qualifiers.get('gene', [''])[0]}\")\n",
    "else:\n",
    "    print(\"Gene information not found.\")\n",
    "\n",
    "if cds_feature:\n",
    "    print(f\"Protein ID: {cds_feature.qualifiers.get('protein_id', [''])[0]}\")\n",
    "    print(f\"Protein Name: {cds_feature.qualifiers.get('product', [''])[0]}\")\n",
    "    print(f\"Codon start: {cds_feature.qualifiers.get('codon_start', [''])[0]}\")\n",
    "else:\n",
    "    print(\"CDS information not found.\")\n"
   ]
  },
  {
   "cell_type": "markdown",
   "metadata": {},
   "source": [
    "Nomor 2"
   ]
  },
  {
   "cell_type": "code",
   "execution_count": null,
   "metadata": {},
   "outputs": [],
   "source": [
    "#mengambil sequens dari file fasta\n",
    "seqApoeAcipenser = apoeAcipenser[0].seq\n",
    "seqApoeChristchurch = apoeChristchurch[0].seq"
   ]
  },
  {
   "cell_type": "code",
   "execution_count": null,
   "metadata": {},
   "outputs": [],
   "source": [
    "#translasikan menjadi asam amino\n",
    "acidAcipenser = seqApoeAcipenser.translate()\n",
    "acidChristchurch = seqApoeChristchurch.translate()"
   ]
  },
  {
   "cell_type": "code",
   "execution_count": null,
   "metadata": {},
   "outputs": [],
   "source": [
    "#mencetak hasil\n",
    "print(\"Acid Acipenser : \", acidAcipenser[0:10])"
   ]
  },
  {
   "cell_type": "code",
   "execution_count": null,
   "metadata": {},
   "outputs": [],
   "source": [
    "#potong sequence acipenser\n",
    "# 30 karena 1 codon = 3 basa\n",
    "seqApoeAcipenser = seqApoeAcipenser[0:30]"
   ]
  },
  {
   "cell_type": "code",
   "execution_count": null,
   "metadata": {},
   "outputs": [],
   "source": [
    "#cari apakah asam amino acipenser terkanal di christchurch\n",
    "find = acidChristchurch.find(acidAcipenser)\n",
    "print(find)"
   ]
  },
  {
   "cell_type": "code",
   "execution_count": null,
   "metadata": {},
   "outputs": [],
   "source": [
    "# Mutasi yang akan dilakukan adalah mutasi missense\n",
    "# Mutasi missense adalah mutasi yang mengubah satu basa menjadi basa lain\n",
    "# Mutasi ini yang paling mudah dilakukan karena hanya mengubah basa \n",
    "# Bukan menghapus basa atau menambah basa\n",
    "\n",
    "# Fungsi untuk mencari mutasi yang diperlukan\n",
    "# fungsi ini dilakukan agar sequence target dibuah menjadi seequence tujuan\n",
    "def find_mutations(seq1, seq2):\n",
    "    mutations = []\n",
    "    for i in range(len(seq1)):\n",
    "        if seq1[i] != seq2[i]:\n",
    "            mutations.append((i, seq1[i], seq2[i]))\n",
    "    return mutations"
   ]
  },
  {
   "cell_type": "code",
   "execution_count": null,
   "metadata": {},
   "outputs": [],
   "source": [
    "# Mencari mutasi yang diperlukan\n",
    "mutations = find_mutations(seqApoeAcipenser, seqApoeChristchurch)"
   ]
  },
  {
   "cell_type": "code",
   "execution_count": null,
   "metadata": {},
   "outputs": [],
   "source": [
    "# Output posisi dan mutasi yang diperlukan\n",
    "print(\"Mutasi yang diperlukan untuk mengubah ApoE Acipenser menjadi ApoE Christchurch:\")\n",
    "for pos, base_acipenser, base_christchurch in mutations:\n",
    "    print(f\"Posisi {pos}: {base_acipenser} -> {base_christchurch}\")"
   ]
  },
  {
   "cell_type": "code",
   "execution_count": null,
   "metadata": {},
   "outputs": [],
   "source": [
    "#Menerapkan mutasi pada tingkat DNA\n",
    "#bertujuan untuk mengganti setiap karakter pada urutan DNA ApoE Acipenser \n",
    "#dengan karakter yang sesuai pada urutan DNA ApoE Christchurch\n",
    "seqApoeAcipenser_mutated = list(seqApoeAcipenser)\n",
    "for pos, _, base_christchurch in mutations:\n",
    "    seqApoeAcipenser_mutated[pos] = base_christchurch\n",
    "seqApoeAcipenser_mutated = ''.join(seqApoeAcipenser_mutated)"
   ]
  },
  {
   "cell_type": "code",
   "execution_count": null,
   "metadata": {},
   "outputs": [],
   "source": [
    "# Menerjemahkan kembali urutan DNA yang sudah dimutasi ke dalam asam amino\n",
    "acidAcipenser_mutated = Seq(seqApoeAcipenser_mutated).translate()"
   ]
  },
  {
   "cell_type": "code",
   "execution_count": null,
   "metadata": {},
   "outputs": [],
   "source": [
    "# Output hasil urutan yang sudah dimutasi\n",
    "print(\"\\nUrutan ApoE Acipenser setelah dimutasi:\")\n",
    "print(seqApoeAcipenser_mutated)\n",
    "print(\"\\nAsam amino ApoE Acipenser setelah dimutasi:\")\n",
    "print(acidAcipenser_mutated)\n",
    "print(\"\\nAsam amino ApoE Christchurch:\")\n",
    "print(acidChristchurch)\n",
    "print(\"\\nAsam amino ApoE Acipenser termutasu ditemukan pada index:\")\n",
    "print(acidChristchurch.find(acidAcipenser_mutated))"
   ]
  },
  {
   "cell_type": "markdown",
   "metadata": {},
   "source": [
    "Nomor 3"
   ]
  },
  {
   "cell_type": "code",
   "execution_count": null,
   "metadata": {},
   "outputs": [],
   "source": [
    "#mengambil sequence\n",
    "seqApoe = apoeAcipenser[0].seq"
   ]
  },
  {
   "cell_type": "code",
   "execution_count": null,
   "metadata": {},
   "outputs": [],
   "source": [
    "#mendefinisikan fungsi untuk menghitung jumlah basa per komponen\n",
    "def count_seq(seq):\n",
    "    countA = seq.count(\"A\")\n",
    "    countC = seq.count(\"C\")\n",
    "    countG = seq.count(\"G\")\n",
    "    countT = seq.count(\"T\")\n",
    "    return {\n",
    "        \"A\": countA,\n",
    "        \"C\": countC,\n",
    "        \"G\": countG,\n",
    "        \"T\": countT\n",
    "    }\n",
    "\n",
    "#mendefinisikan fungsi untuk menghitung persentase basa per komponen\n",
    "def percentage_seq(seq):\n",
    "    percentage_seqA = round(seq.count(\"A\") / len(seq) * 100,2) \n",
    "    percentage_seqC = round(seq.count(\"C\") / len(seq) * 100,2)\n",
    "    percentage_seqG = round(seq.count(\"G\") / len(seq) * 100,2)\n",
    "    percentage_seqT = round(seq.count(\"T\") / len(seq) * 100,2)\n",
    "    return {\n",
    "        \"A\": percentage_seqA,\n",
    "        \"C\": percentage_seqC,\n",
    "        \"G\": percentage_seqG,\n",
    "        \"T\": percentage_seqT\n",
    "    }\n",
    "\n",
    "# mendefinisikan fungsi untuk menghitung GC skewness\n",
    "# menghitung GC skewness dengan rumus (G-C)/(G+C)\n",
    "# window adalah panjang sekuens yang akan dihitung GC skewnessnya\n",
    "# skewness melihat komposisis basa mana yang lebih banyak\n",
    "# jika skewness > 0 maka basa GC lebih banyak      \n",
    "def gc_skew(dna, window=5):\n",
    "    skews = []\n",
    "    for i in range(0, len(dna), window):\n",
    "        subseq = dna[i:i+window]\n",
    "        g_count = subseq.count('G')\n",
    "        c_count = subseq.count('C')\n",
    "        if g_count + c_count !=0:\n",
    "            skew = (g_count - c_count)/(g_count + c_count) \n",
    "            skews.append(skew)\n",
    "        else:\n",
    "            skews.append(0)\n",
    "\n",
    "    return skews"
   ]
  },
  {
   "cell_type": "code",
   "execution_count": null,
   "metadata": {},
   "outputs": [],
   "source": [
    "#cetak hasil analisis\n",
    "print(\"komponen masing - masing basa\")\n",
    "print(count_seq(seqApoe))\n",
    "print(\"persentase masing - masing basa\")\n",
    "print(percentage_seq(seqApoe))"
   ]
  },
  {
   "cell_type": "code",
   "execution_count": null,
   "metadata": {},
   "outputs": [],
   "source": [
    "#panggil gungsi gc_skew dan tampung dalam variabel\n",
    "apoE_gc_skew = gc_skew(seqApoe)"
   ]
  },
  {
   "cell_type": "code",
   "execution_count": null,
   "metadata": {},
   "outputs": [],
   "source": [
    "#buat plot untuk ditampilkan\n",
    "plt.plot(apoE_gc_skew, label='gc_skew' , color = 'blue')\n",
    "\n",
    "plt.xlabel('Posisi')\n",
    "plt.ylabel('skewness')\n",
    "plt.title('GC Skewness dengan windows 5')\n",
    "\n",
    "plt.legend()\n",
    "plt.show()"
   ]
  },
  {
   "cell_type": "markdown",
   "metadata": {},
   "source": [
    "Nomor 4"
   ]
  },
  {
   "cell_type": "code",
   "execution_count": null,
   "metadata": {},
   "outputs": [],
   "source": [
    "#mengambil sequence dari file fasta\n",
    "#sequence yang diambil hanya 138 karakter pertama\n",
    "# hal ini dilakukan karena MSA hanya mendukung jumlah alignment yang sama\n",
    "seqapoeAcipenser = apoeAcipenser[0].seq[:138]\n",
    "seqapoeBos = apoeBos[0].seq[:138]\n",
    "seqapoECercopithecus = apoeCercopithecus[0].seq[:138]\n",
    "seqapoeOryctolagus= apoeOryctolagus[0].seq[:138]\n",
    "seqapoePan = apoePan[0].seq[:138]\n",
    "seqapoeSiniperca = apoeSiniperca[0].seq[:138]"
   ]
  },
  {
   "cell_type": "code",
   "execution_count": null,
   "metadata": {},
   "outputs": [],
   "source": [
    "#membuat multiple sequence alignment\n",
    "sequences = [\n",
    "    SeqRecord(seqapoeAcipenser,id = 'Acipenser'),\n",
    "    SeqRecord(seqapoeBos,id = 'Bos Taurus'),\n",
    "    SeqRecord(seqapoECercopithecus,id = 'Cercoptithecus aethiops'),\n",
    "    SeqRecord(seqapoeOryctolagus,id = 'Oryctolagus cuniculus'),\n",
    "    SeqRecord(seqapoePan,id = 'Pan troglodytes'),\n",
    "    SeqRecord(seqapoeSiniperca,id = 'Siniperca chuatsi')  \n",
    "]"
   ]
  },
  {
   "cell_type": "code",
   "execution_count": null,
   "metadata": {},
   "outputs": [],
   "source": [
    "#menyimpan hasil multiple sequence alignment dalam variabel\n",
    "align = MultipleSeqAlignment(sequences)"
   ]
  },
  {
   "cell_type": "code",
   "execution_count": null,
   "metadata": {},
   "outputs": [],
   "source": [
    "#fungsi untuk meelihat daerah yang termutasi\n",
    "def mutations(alignment, acipenser_seq):\n",
    "    results = {}\n",
    "    acipenser_seq_str = str(acipenser_seq)\n",
    "\n",
    "    for record in alignment:\n",
    "        if record.id != 'Acipenser':\n",
    "            conserved = []\n",
    "            mutations = []\n",
    "            for i, (acipenser_res, other_res) in enumerate(zip(acipenser_seq_str, str(record.seq))):\n",
    "                if acipenser_res == other_res:\n",
    "                    conserved.append((i+1, acipenser_res))\n",
    "                else:\n",
    "                    mutations.append((i+1, acipenser_res, other_res))\n",
    "            results[record.id] = {\n",
    "                'conserved': conserved,\n",
    "                'mutations': mutations\n",
    "            }\n",
    "    return results"
   ]
  },
  {
   "cell_type": "code",
   "execution_count": null,
   "metadata": {},
   "outputs": [],
   "source": [
    "#fungsi untuk melihat daerah konservatif\n",
    "def conserved(alignment, acipenser_seq):\n",
    "    results = {}\n",
    "    acipenser_seq_str = str(acipenser_seq)\n",
    "\n",
    "    for record in alignment:\n",
    "        if record.id != 'Acipenser':\n",
    "            comparison = []\n",
    "            for acipenser_res, other_res in zip(acipenser_seq_str, str(record.seq)):\n",
    "                if acipenser_res == other_res:\n",
    "                    comparison.append(acipenser_res)\n",
    "                else:\n",
    "                    comparison.append('x')\n",
    "            results[record.id] = ''.join(comparison)\n",
    "    return results"
   ]
  },
  {
   "cell_type": "code",
   "execution_count": null,
   "metadata": {},
   "outputs": [],
   "source": [
    "#menampilkan hasil mutasi\n",
    "results_mutation = mutations(align, seqapoeAcipenser)\n",
    "\n",
    "# Tampilkan hasil perspecies\n",
    "for species, data in results_mutation.items():\n",
    "    print(f\"\\nHasil untuk {species}:\")\n",
    "    \n",
    "    print(\"Mutasi:\")\n",
    "    for pos, acipenser_res, other_res in data['mutations']:\n",
    "        print(f\"Posisi {pos}: Acipenser ({acipenser_res}) -> {species} ({other_res})\")"
   ]
  },
  {
   "cell_type": "code",
   "execution_count": null,
   "metadata": {},
   "outputs": [],
   "source": [
    "# Lakukan perbandingan\n",
    "results_conserve = conserved(align, seqapoeAcipenser)\n",
    "\n",
    "# Tampilkan hasil\n",
    "for species, comparison in results_conserve.items():\n",
    "    print(f\"\\nHasil untuk {species}:\")\n",
    "    print(comparison)"
   ]
  },
  {
   "cell_type": "code",
   "execution_count": null,
   "metadata": {},
   "outputs": [],
   "source": [
    "# sequence yang akan dijadikan sebagai target\n",
    "# sequence dijakian string untuk mempermudah proses\n",
    "# alasan memotong sequence untuk memperceepat pemodelan :)\n",
    "sequences = [\n",
    "    str(apoeAcipenser[0].seq[:138]),\n",
    "    str(apoeBos[0].seq[:138]),\n",
    "    str(apoeCercopithecus[0].seq[:138]),\n",
    "    str(apoeOryctolagus[0].seq[:138]),\n",
    "    str(apoePan[0].seq[:138]),\n",
    "    str(apoeSiniperca[0].seq[:138])\n",
    "]"
   ]
  },
  {
   "cell_type": "code",
   "execution_count": null,
   "metadata": {},
   "outputs": [],
   "source": [
    "#fungsi untuk menghitung skor alignment\n",
    "#berguna untuk kperhitungan optimisasi\n",
    "def alignment_score(params):\n",
    "    gap_open_penalty, gap_extend_penalty = params\n",
    "    if gap_open_penalty < gap_extend_penalty:\n",
    "        return np.inf  # invalid parameter combination\n",
    "    total_score = 0\n",
    "    num_alignments = 0\n",
    "    for i in range(len(sequences)):\n",
    "        for j in range(i + 1, len(sequences)):\n",
    "            alignments = pairwise2.align.globalxs(sequences[i], sequences[j], -gap_open_penalty, -gap_extend_penalty)\n",
    "            total_score += alignments[0].score  # Add the score of the best alignment\n",
    "            num_alignments += 1\n",
    "    average_score = total_score / num_alignments\n",
    "    return -average_score  # Negative because differential_evolution minimizes the function"
   ]
  },
  {
   "cell_type": "code",
   "execution_count": null,
   "metadata": {},
   "outputs": [],
   "source": [
    "# menentukan nilai batas untuk gap open dan gap extend\n",
    "bounds = [(0.1, 10.0), (0.1, 10.0)]\n",
    "\n",
    "# melakukan pergitungan optimisasi\n",
    "result = differential_evolution(alignment_score, bounds)\n",
    "\n",
    "#mendapatkan hasil optimisasi untuk gap open dan gap extend\n",
    "best_gap_open_penalty, best_gap_extend_penalty = result.x"
   ]
  },
  {
   "cell_type": "code",
   "execution_count": null,
   "metadata": {},
   "outputs": [],
   "source": [
    "#menampilkan hasil optimisasi untuk gap open dan gap extend`\n",
    "print(f\"Best gap open penalty: {best_gap_open_penalty}\")\n",
    "print(f\"Best gap extend penalty: {best_gap_extend_penalty}\")"
   ]
  },
  {
   "cell_type": "code",
   "execution_count": null,
   "metadata": {},
   "outputs": [],
   "source": [
    "#memberikan nilai inisiasi untuk skor alignment\n",
    "#nilai inisiasi adalah nilai terburuk yang mungkin\n",
    "best_alignment = None\n",
    "best_score = float('-inf')"
   ]
  },
  {
   "cell_type": "code",
   "execution_count": null,
   "metadata": {},
   "outputs": [],
   "source": [
    "for j in range(1, len(sequences)):\n",
    "    alignments = pairwise2.align.globalxs(sequences[0], sequences[j], -best_gap_open_penalty, -best_gap_extend_penalty)\n",
    "    if alignments[0].score > best_score:\n",
    "        best_score = alignments[0].score\n",
    "        best_alignment = alignments[0]"
   ]
  },
  {
   "cell_type": "code",
   "execution_count": null,
   "metadata": {},
   "outputs": [],
   "source": [
    "print(\"\\nBest alignment overall:\")\n",
    "print(format_alignment(*best_alignment))"
   ]
  },
  {
   "cell_type": "code",
   "execution_count": null,
   "metadata": {},
   "outputs": [],
   "source": [
    "first_alignment_line = format_alignment(*best_alignment).split('\\n')[0]\n",
    "print(\"First line of the best alignment:\")\n",
    "print(first_alignment_line)"
   ]
  },
  {
   "cell_type": "markdown",
   "metadata": {},
   "source": [
    "lakukan kode ini hanya ingin menggunakan 2 seq"
   ]
  },
  {
   "cell_type": "code",
   "execution_count": null,
   "metadata": {},
   "outputs": [],
   "source": [
    "sequences = [\n",
    "    str(apoeAcipenser[0].seq),\n",
    "    str(apoeSiniperca[0].seq)\n",
    "]"
   ]
  },
  {
   "cell_type": "code",
   "execution_count": null,
   "metadata": {},
   "outputs": [],
   "source": [
    "#fungsi untuk menghitung skor alignment\n",
    "#berguna untuk kperhitungan optimisasi\n",
    "def alignment_score(params):\n",
    "    gap_open_penalty, gap_extend_penalty = params\n",
    "    if gap_open_penalty < gap_extend_penalty:\n",
    "        return np.inf  # invalid parameter combination\n",
    "    total_score = 0\n",
    "    num_alignments = 0\n",
    "    for i in range(len(sequences)):\n",
    "        for j in range(i + 1, len(sequences)):\n",
    "            alignments = pairwise2.align.globalxs(sequences[i], sequences[j], -gap_open_penalty, -gap_extend_penalty)\n",
    "            total_score += alignments[0].score  # Add the score of the best alignment\n",
    "            num_alignments += 1\n",
    "    average_score = total_score / num_alignments\n",
    "    return -average_score  # Negative because differential_evolution minimizes the function"
   ]
  },
  {
   "cell_type": "code",
   "execution_count": null,
   "metadata": {},
   "outputs": [],
   "source": [
    "# menentukan nilai batas untuk gap open dan gap extend\n",
    "bounds = [(0.1, 10.0), (0.1, 10.0)]\n",
    "\n",
    "# melakukan pergitungan optimisasi\n",
    "result = differential_evolution(alignment_score, bounds)\n",
    "\n",
    "#mendapatkan hasil optimisasi untuk gap open dan gap extend\n",
    "best_gap_open_penalty, best_gap_extend_penalty = result.x"
   ]
  },
  {
   "cell_type": "code",
   "execution_count": null,
   "metadata": {},
   "outputs": [],
   "source": [
    "#menampilkan hasil optimisasi untuk gap open dan gap extend`\n",
    "print(f\"Best gap open penalty: {best_gap_open_penalty}\")\n",
    "print(f\"Best gap extend penalty: {best_gap_extend_penalty}\")"
   ]
  },
  {
   "cell_type": "code",
   "execution_count": null,
   "metadata": {},
   "outputs": [],
   "source": [
    "#memberikan nilai inisiasi untuk skor alignment\n",
    "#nilai inisiasi adalah nilai terburuk yang mungkin\n",
    "best_alignment = None\n",
    "best_score = float('-inf')"
   ]
  },
  {
   "cell_type": "code",
   "execution_count": null,
   "metadata": {},
   "outputs": [],
   "source": [
    "for j in range(1, len(sequences)):\n",
    "    alignments = pairwise2.align.globalxs(sequences[0], sequences[j], -best_gap_open_penalty, -best_gap_extend_penalty)\n",
    "    if alignments[0].score > best_score:\n",
    "        best_score = alignments[0].score\n",
    "        best_alignment = alignments[0]"
   ]
  },
  {
   "cell_type": "code",
   "execution_count": null,
   "metadata": {},
   "outputs": [],
   "source": [
    "print(\"\\nBest alignment overall:\")\n",
    "print(format_alignment(*best_alignment))"
   ]
  },
  {
   "cell_type": "code",
   "execution_count": null,
   "metadata": {},
   "outputs": [],
   "source": [
    "first_alignment_line = format_alignment(*best_alignment).split('\\n')[0]\n",
    "print(\"First line of the best alignment:\")\n",
    "print(first_alignment_line)"
   ]
  },
  {
   "cell_type": "markdown",
   "metadata": {},
   "source": [
    "Nomor 5"
   ]
  },
  {
   "cell_type": "code",
   "execution_count": null,
   "metadata": {},
   "outputs": [],
   "source": [
    "#potong sequence dengan panjang paling APOE paling pendek\n",
    "#hal ini dilakukan agar dapat dilakukan multiple sequence alignment\n",
    "seqapoeAcipenser = apoeAcipenser[0].seq[:138]\n",
    "seqapoeBos = apoeBos[0].seq[:138]\n",
    "seqapoECercopithecus = apoeCercopithecus[0].seq[:138]\n",
    "seqapoeOryctolagus= apoeOryctolagus[0].seq[:138]\n",
    "seqapoePan = apoePan[0].seq[:138]\n",
    "seqapoESiniperca = apoeSiniperca[0].seq[:138]\n"
   ]
  },
  {
   "cell_type": "code",
   "execution_count": null,
   "metadata": {},
   "outputs": [],
   "source": [
    "#membuat multiple sequence alignment\n",
    "sequences = [\n",
    "    SeqRecord(seqapoeAcipenser,id = 'Acipenser'),\n",
    "    SeqRecord(seqapoeBos,id = 'Bos Taurus'),\n",
    "    SeqRecord(seqapoECercopithecus,id = 'Cercoptithecus'),\n",
    "    SeqRecord(seqapoeOryctolagus,id = 'Oryctolagus'),\n",
    "    SeqRecord(seqapoePan,id = 'Pan troglodytes'),\n",
    "    SeqRecord(seqapoESiniperca,id = 'Siniperca')  \n",
    "]"
   ]
  },
  {
   "cell_type": "code",
   "execution_count": null,
   "metadata": {},
   "outputs": [],
   "source": [
    "# Membuat fungsi hamming distance\n",
    "def hamming_distance(seq1, seq2):\n",
    "    return sum(c1 != c2 for c1, c2 in zip(seq1, seq2))"
   ]
  },
  {
   "cell_type": "code",
   "execution_count": null,
   "metadata": {},
   "outputs": [],
   "source": [
    "#membuat matriks hamming distance\n",
    "num_sequences = len(sequences)\n",
    "hamming_matrix = np.zeros((num_sequences, num_sequences), dtype=int)"
   ]
  },
  {
   "cell_type": "code",
   "execution_count": null,
   "metadata": {},
   "outputs": [],
   "source": [
    "#mengisi matriks hamming distance\n",
    "for i in range(num_sequences):\n",
    "    for j in range(num_sequences):\n",
    "        hamming_matrix[i, j] = hamming_distance(sequences[i].seq, sequences[j].seq)"
   ]
  },
  {
   "cell_type": "code",
   "execution_count": null,
   "metadata": {},
   "outputs": [],
   "source": [
    "# Mengonversi matriks menjadi DataFrame agar lebih rapi\n",
    "sequence_ids = [seq.id for seq in sequences]\n",
    "hamming_df = pd.DataFrame(hamming_matrix, index=sequence_ids, columns=sequence_ids)\n",
    "# Menggunakan tabulate untuk mem print DataFrame dalam format tabel\n",
    "table = tabulate(hamming_df, headers='keys', tablefmt='grid')"
   ]
  },
  {
   "cell_type": "code",
   "execution_count": null,
   "metadata": {},
   "outputs": [],
   "source": [
    "# Mencetak matriks Hamming distance\n",
    "print(\"Matriks Hamming Distance:\")\n",
    "print(table)"
   ]
  },
  {
   "cell_type": "code",
   "execution_count": null,
   "metadata": {},
   "outputs": [],
   "source": [
    "# Buat dendrogram\n",
    "align = MultipleSeqAlignment(sequences)\n",
    "calculator = DistanceCalculator('identity')\n",
    "dm = calculator.get_distance(align)\n"
   ]
  },
  {
   "cell_type": "code",
   "execution_count": null,
   "metadata": {},
   "outputs": [],
   "source": [
    "\n",
    "# Membuat matriks Hamming\n",
    "num_sequences = len(sequences)\n",
    "hamming_matrix = np.zeros((num_sequences, num_sequences), dtype=int)\n",
    "sequence_ids = [seq.id for seq in sequences]\n",
    "hamming_df = pd.DataFrame(hamming_matrix, index=sequence_ids, columns=sequence_ids)\n",
    "\n",
    "# Menghitung matriks jarak\n",
    "dm_matrix = np.array(dm)\n",
    "linkage_matrix = linkage(dm_matrix, method='average')\n",
    "\n",
    "# Membuat plot dendrogram\n",
    "fig, ax = plt.subplots(figsize=(10, 5))\n",
    "dendrogram(linkage_matrix, labels=sequence_ids, orientation='right', ax=ax)\n",
    "\n",
    "# Menyesuaikan plot\n",
    "plt.xlabel('Jarak')\n",
    "plt.ylabel('DNA sequence')\n",
    "plt.show()\n"
   ]
  }
 ],
 "metadata": {
  "kernelspec": {
   "display_name": "Python 3",
   "language": "python",
   "name": "python3"
  },
  "language_info": {
   "name": "python",
   "version": "3.9.6"
  }
 },
 "nbformat": 4,
 "nbformat_minor": 2
}
